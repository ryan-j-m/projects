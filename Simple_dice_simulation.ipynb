{
 "cells": [
  {
   "cell_type": "code",
   "execution_count": 2,
   "metadata": {},
   "outputs": [],
   "source": [
    "import random\n",
    "import numpy as np"
   ]
  },
  {
   "cell_type": "markdown",
   "metadata": {},
   "source": [
    "## Loops for histogram"
   ]
  },
  {
   "cell_type": "code",
   "execution_count": 3,
   "metadata": {},
   "outputs": [],
   "source": [
    "\n",
    "CLT_array=[]\n",
    "for j in range(10):\n",
    "    counter_array=[]\n",
    "    score_1_array=[]\n",
    "    score_2_array=[]\n",
    "    winner_array=[]\n",
    "    for i in range(10):\n",
    "        counter=0\n",
    "        score_1=0\n",
    "        score_2=0\n",
    "        win_score=50\n",
    "\n",
    "        while score_1 < win_score and score_2 < win_score:\n",
    "            counter +=1\n",
    "            \n",
    "            \n",
    "            die_1 = random.randint(1,6)\n",
    "            \n",
    "            if score_1 + die_1 >= score_2:\n",
    "                score_1 = score_1 + die_1\n",
    "\n",
    "            else:\n",
    "                if score_2-die_1 < 0:\n",
    "                    score_2=0\n",
    "                else:\n",
    "                    score_2 = score_2 - die_1\n",
    "                    \n",
    "            die_2 = random.randint(1,6)\n",
    "            score_2 += die_2\n",
    "\n",
    "        counter_array.append(counter)\n",
    "        score_1_array.append(score_1)\n",
    "        score_2_array.append(score_2)\n",
    "\n",
    "        if score_1 > score_2:\n",
    "            winner_array.append(1)\n",
    "        elif score_1 < score_2:\n",
    "            winner_array.append(0)\n",
    "        elif score_1 == score_2:\n",
    "            winner_array.append(.5)\n",
    "        \n",
    "    CLT_array.append(np.mean(winner_array))"
   ]
  },
  {
   "cell_type": "code",
   "execution_count": 4,
   "metadata": {},
   "outputs": [
    {
     "name": "stdout",
     "output_type": "stream",
     "text": [
      "22.3\n",
      "45.8\n",
      "48.0\n",
      "0.61\n"
     ]
    }
   ],
   "source": [
    "print(np.mean(counter_array))\n",
    "print(np.mean(score_1_array))\n",
    "print(np.mean(score_2_array))\n",
    "print(np.mean(CLT_array))"
   ]
  },
  {
   "cell_type": "code",
   "execution_count": 5,
   "metadata": {},
   "outputs": [],
   "source": [
    "CLT_array_2=[]\n",
    "for j in range(10):\n",
    "    counter_array=[]\n",
    "    score_1_array=[]\n",
    "    score_2_array=[]\n",
    "    winner_array=[]\n",
    "    for i in range(10):\n",
    "        counter=0\n",
    "        score_1=0\n",
    "        score_2=0\n",
    "        win_score=50\n",
    "\n",
    "        while score_1 < win_score and score_2 < win_score:\n",
    "            counter +=1\n",
    "            \n",
    "            die_2 = random.randint(1,6)\n",
    "            score_2 += die_2\n",
    "\n",
    "            die_1 = random.randint(1,6)\n",
    "\n",
    "            if score_1 + die_1 >= score_2:\n",
    "                score_1 = score_1 + die_1\n",
    "\n",
    "            else:\n",
    "                if score_2-die_1<0:\n",
    "                    score_2=0\n",
    "                else:\n",
    "                    score_2 = score_2 - die_1\n",
    "                    \n",
    "\n",
    "        counter_array.append(counter)\n",
    "        score_1_array.append(score_1)\n",
    "        score_2_array.append(score_2)\n",
    "\n",
    "        if score_1 > score_2:\n",
    "            winner_array.append(1)\n",
    "        elif score_1 < score_2:\n",
    "            winner_array.append(0)\n",
    "        elif score_1 == score_2:\n",
    "            winner_array.append(.5)\n",
    "        \n",
    "        \n",
    "    CLT_array_2.append(np.mean(winner_array))"
   ]
  },
  {
   "cell_type": "code",
   "execution_count": 6,
   "metadata": {},
   "outputs": [
    {
     "name": "stdout",
     "output_type": "stream",
     "text": [
      "58.4\n",
      "50.4\n",
      "48.2\n",
      "0.6950000000000001\n"
     ]
    }
   ],
   "source": [
    "print(np.mean(counter_array))\n",
    "print(np.mean(score_1_array))\n",
    "print(np.mean(score_2_array))\n",
    "print(np.mean(CLT_array_2))"
   ]
  },
  {
   "cell_type": "code",
   "execution_count": 7,
   "metadata": {},
   "outputs": [
    {
     "name": "stdout",
     "output_type": "stream",
     "text": [
      "[0.6, 0.5, 0.7, 0.55, 0.7, 0.7, 0.5, 0.7, 0.75, 0.4]\n",
      "[0.7, 0.85, 0.8, 0.8, 0.4, 0.6, 0.7, 0.7, 0.5, 0.9]\n"
     ]
    }
   ],
   "source": [
    "print(CLT_array)\n",
    "print(CLT_array_2)"
   ]
  },
  {
   "cell_type": "code",
   "execution_count": 8,
   "metadata": {},
   "outputs": [],
   "source": [
    "# np.savetxt(\"CLT_array.csv\", CLT_array, delimiter=\",\")\n",
    "# np.savetxt(\"CLT_array_2.csv\", CLT_array_2, delimiter=\",\")"
   ]
  },
  {
   "cell_type": "markdown",
   "metadata": {},
   "source": [
    "# Strategy C for Constant subtract if B score - A score > C vs Strat A"
   ]
  },
  {
   "cell_type": "markdown",
   "metadata": {},
   "source": [
    "## Player A rolls FIRST"
   ]
  },
  {
   "cell_type": "markdown",
   "metadata": {},
   "source": [
    "#### PLAYER B STRAT C=1"
   ]
  },
  {
   "cell_type": "code",
   "execution_count": 9,
   "metadata": {},
   "outputs": [],
   "source": [
    "CLT_array_3=[]\n",
    "for j in range(10):\n",
    "    counter_array=[]\n",
    "    score_1_array=[]\n",
    "    score_2_array=[]\n",
    "    winner_array=[]\n",
    "    for i in range(10000):\n",
    "        counter=0\n",
    "        score_1=0\n",
    "        score_2=0\n",
    "        win_score=50\n",
    "\n",
    "        while score_1 < win_score and score_2 < win_score:\n",
    "            counter +=1\n",
    "\n",
    "            die_1 = random.randint(1,6)\n",
    "\n",
    "            if (score_1 + die_1 ) >= score_2:\n",
    "                score_1 = score_1 + die_1\n",
    "\n",
    "            else:\n",
    "                if score_2-die_1<0:\n",
    "                    score_2=0\n",
    "                else:\n",
    "                    score_2 = score_2 - die_1\n",
    "                    \n",
    "            die_2 = random.randint(1,6)\n",
    "            if (score_2 + die_2 - score_1) >= 1:\n",
    "                score_2 = score_2 + die_2\n",
    "\n",
    "            else:\n",
    "                if score_1-die_2<0:\n",
    "                    score_1=0\n",
    "                else:\n",
    "                    score_1 = score_1 - die_2\n",
    "\n",
    "        counter_array.append(counter)\n",
    "        score_1_array.append(score_1)\n",
    "        score_2_array.append(score_2)\n",
    "\n",
    "        if score_1 > score_2:\n",
    "            winner_array.append(1)\n",
    "        elif score_1 < score_2:\n",
    "            winner_array.append(0)\n",
    "        elif score_1 == score_2:\n",
    "            winner_array.append(.5)\n",
    "        \n",
    "        \n",
    "    CLT_array_3.append(np.mean(winner_array))"
   ]
  },
  {
   "cell_type": "code",
   "execution_count": 10,
   "metadata": {},
   "outputs": [
    {
     "name": "stdout",
     "output_type": "stream",
     "text": [
      "86.4062\n",
      "[0.3428, 0.3593, 0.353, 0.3521, 0.3528, 0.3493, 0.3561, 0.3529, 0.3515, 0.3561]\n",
      "0.3428\n",
      "0.3593\n"
     ]
    }
   ],
   "source": [
    "print(np.mean(counter_array))\n",
    "print(CLT_array_3)\n",
    "print(min(CLT_array_3))\n",
    "print(max(CLT_array_3))"
   ]
  },
  {
   "cell_type": "markdown",
   "metadata": {},
   "source": [
    "### PLAYER B STRAT C=2"
   ]
  },
  {
   "cell_type": "code",
   "execution_count": 11,
   "metadata": {},
   "outputs": [],
   "source": [
    "CLT_array_3=[]\n",
    "for j in range(10):\n",
    "    counter_array=[]\n",
    "    score_1_array=[]\n",
    "    score_2_array=[]\n",
    "    winner_array=[]\n",
    "    for i in range(10000):\n",
    "        counter=0\n",
    "        score_1=0\n",
    "        score_2=0\n",
    "        win_score=50\n",
    "\n",
    "        while score_1 < win_score and score_2 < win_score:\n",
    "            counter +=1\n",
    "\n",
    "            die_1 = random.randint(1,6)\n",
    "\n",
    "            if (score_1 + die_1 ) >= score_2:\n",
    "                score_1 = score_1 + die_1\n",
    "\n",
    "            else:\n",
    "                if score_2-die_1<0:\n",
    "                    score_2=0\n",
    "                else:\n",
    "                    score_2 = score_2 - die_1\n",
    "                    \n",
    "            die_2 = random.randint(1,6)\n",
    "            if (score_2 + die_2 - score_1) >= 2:\n",
    "                score_2 = score_2 + die_2\n",
    "\n",
    "            else:\n",
    "                if score_1-die_2<0:\n",
    "                    score_1=0\n",
    "                else:\n",
    "                    score_1 = score_1 - die_2\n",
    "\n",
    "        counter_array.append(counter)\n",
    "        score_1_array.append(score_1)\n",
    "        score_2_array.append(score_2)\n",
    "\n",
    "        if score_1 > score_2:\n",
    "            winner_array.append(1)\n",
    "        elif score_1 < score_2:\n",
    "            winner_array.append(0)\n",
    "        elif score_1 == score_2:\n",
    "            winner_array.append(.5)\n",
    "        \n",
    "        \n",
    "    CLT_array_3.append(np.mean(winner_array))"
   ]
  },
  {
   "cell_type": "code",
   "execution_count": 12,
   "metadata": {},
   "outputs": [
    {
     "name": "stdout",
     "output_type": "stream",
     "text": [
      "111.3952\n",
      "[0.3834, 0.3906, 0.3848, 0.3812, 0.385, 0.3927, 0.3935, 0.3911, 0.3833, 0.389]\n",
      "0.3812\n",
      "0.3935\n"
     ]
    }
   ],
   "source": [
    "print(np.mean(counter_array))\n",
    "print(CLT_array_3)\n",
    "print(min(CLT_array_3))\n",
    "print(max(CLT_array_3))"
   ]
  },
  {
   "cell_type": "markdown",
   "metadata": {},
   "source": [
    "### PLAYER B STRAT C=3"
   ]
  },
  {
   "cell_type": "code",
   "execution_count": null,
   "metadata": {},
   "outputs": [],
   "source": [
    "CLT_array_3=[]\n",
    "for j in range(10):\n",
    "    counter_array=[]\n",
    "    score_1_array=[]\n",
    "    score_2_array=[]\n",
    "    winner_array=[]\n",
    "    for i in range(10000):\n",
    "        counter=0\n",
    "        score_1=0\n",
    "        score_2=0\n",
    "        win_score=50\n",
    "\n",
    "        while score_1 < win_score and score_2 < win_score:\n",
    "            counter +=1\n",
    "\n",
    "            die_1 = random.randint(1,6)\n",
    "\n",
    "            if (score_1 + die_1 ) >= score_2:\n",
    "                score_1 = score_1 + die_1\n",
    "\n",
    "            else:\n",
    "                if score_2-die_1<0:\n",
    "                    score_2=0\n",
    "                else:\n",
    "                    score_2 = score_2 - die_1\n",
    "                    \n",
    "            die_2 = random.randint(1,6)\n",
    "            if (score_2 + die_2 - score_1) >= 3:\n",
    "                score_2 = score_2 + die_2\n",
    "\n",
    "            else:\n",
    "                if score_1-die_2<0:\n",
    "                    score_1=0\n",
    "                else:\n",
    "                    score_1 = score_1 - die_2\n",
    "\n",
    "        counter_array.append(counter)\n",
    "        score_1_array.append(score_1)\n",
    "        score_2_array.append(score_2)\n",
    "\n",
    "        if score_1 > score_2:\n",
    "            winner_array.append(1)\n",
    "        elif score_1 < score_2:\n",
    "            winner_array.append(0)\n",
    "        elif score_1 == score_2:\n",
    "            winner_array.append(.5)\n",
    "        \n",
    "        \n",
    "    CLT_array_3.append(np.mean(winner_array))"
   ]
  },
  {
   "cell_type": "code",
   "execution_count": null,
   "metadata": {},
   "outputs": [],
   "source": [
    "print(np.mean(counter_array))\n",
    "print(CLT_array_3)\n",
    "print(min(CLT_array_3))\n",
    "print(max(CLT_array_3))"
   ]
  },
  {
   "cell_type": "markdown",
   "metadata": {},
   "source": [
    "### PLAYER B STRAT C=4"
   ]
  },
  {
   "cell_type": "code",
   "execution_count": null,
   "metadata": {},
   "outputs": [],
   "source": [
    "CLT_array_3=[]\n",
    "for j in range(10):\n",
    "    counter_array=[]\n",
    "    score_1_array=[]\n",
    "    score_2_array=[]\n",
    "    winner_array=[]\n",
    "    for i in range(10000):\n",
    "        counter=0\n",
    "        score_1=0\n",
    "        score_2=0\n",
    "        win_score=50\n",
    "\n",
    "        while score_1 < win_score and score_2 < win_score:\n",
    "            counter +=1\n",
    "\n",
    "            die_1 = random.randint(1,6)\n",
    "\n",
    "            if (score_1 + die_1 ) >= score_2:\n",
    "                score_1 = score_1 + die_1\n",
    "\n",
    "            else:\n",
    "                if score_2-die_1<0:\n",
    "                    score_2=0\n",
    "                else:\n",
    "                    score_2 = score_2 - die_1\n",
    "                    \n",
    "            die_2 = random.randint(1,6)\n",
    "            if (score_2 + die_2 - score_1) >= 4:\n",
    "                score_2 = score_2 + die_2\n",
    "\n",
    "            else:\n",
    "                if score_1-die_2<0:\n",
    "                    score_1=0\n",
    "                else:\n",
    "                    score_1 = score_1 - die_2\n",
    "\n",
    "        counter_array.append(counter)\n",
    "        score_1_array.append(score_1)\n",
    "        score_2_array.append(score_2)\n",
    "\n",
    "        if score_1 > score_2:\n",
    "            winner_array.append(1)\n",
    "        elif score_1 < score_2:\n",
    "            winner_array.append(0)\n",
    "        elif score_1 == score_2:\n",
    "            winner_array.append(.5)\n",
    "        \n",
    "        \n",
    "    CLT_array_3.append(np.mean(winner_array))"
   ]
  },
  {
   "cell_type": "code",
   "execution_count": null,
   "metadata": {},
   "outputs": [],
   "source": [
    "print(np.mean(counter_array))\n",
    "print(CLT_array_3)\n",
    "print(min(CLT_array_3))\n",
    "print(max(CLT_array_3))"
   ]
  },
  {
   "cell_type": "markdown",
   "metadata": {},
   "source": [
    "# PLayer B rolls FIRST "
   ]
  },
  {
   "cell_type": "markdown",
   "metadata": {},
   "source": [
    "## Playber B Strat C=1"
   ]
  },
  {
   "cell_type": "code",
   "execution_count": null,
   "metadata": {},
   "outputs": [],
   "source": [
    "CLT_array_4=[]\n",
    "for j in range(10):\n",
    "    counter_array=[]\n",
    "    score_1_array=[]\n",
    "    score_2_array=[]\n",
    "    winner_array=[]\n",
    "    for i in range(10000):\n",
    "        counter=0\n",
    "        score_1=0\n",
    "        score_2=0\n",
    "        win_score=50\n",
    "\n",
    "        while score_1 < win_score and score_2 < win_score:\n",
    "            counter +=1\n",
    "\n",
    "            die_2 = random.randint(1,6)\n",
    "            if (score_2 + die_2 - score_1) >= 1:\n",
    "                score_2 = score_2 + die_2\n",
    "\n",
    "            else:\n",
    "                if score_1-die_2<0:\n",
    "                    score_1=0\n",
    "                else:\n",
    "                    score_1 = score_1 - die_2\n",
    "            \n",
    "            die_1 = random.randint(1,6)\n",
    "\n",
    "            if (score_1 + die_1) >= score_2:\n",
    "                score_1 = score_1 + die_1\n",
    "\n",
    "            else:\n",
    "                if score_2-die_1<0:\n",
    "                    score_2=0\n",
    "                else:\n",
    "                    score_2 = score_2 - die_1\n",
    "\n",
    "        counter_array.append(counter)\n",
    "        score_1_array.append(score_1)\n",
    "        score_2_array.append(score_2)\n",
    "\n",
    "        if score_1 > score_2:\n",
    "            winner_array.append(1)\n",
    "        elif score_1 < score_2:\n",
    "            winner_array.append(0)\n",
    "        elif score_1 == score_2:\n",
    "            winner_array.append(.5)\n",
    "        \n",
    "        \n",
    "    CLT_array_4.append(np.mean(winner_array))"
   ]
  },
  {
   "cell_type": "code",
   "execution_count": 187,
   "metadata": {},
   "outputs": [
    {
     "name": "stdout",
     "output_type": "stream",
     "text": [
      "81.3207\n",
      "[0.5978, 0.6035, 0.61665, 0.60915, 0.612, 0.6134, 0.60985, 0.61675, 0.60095, 0.6052]\n",
      "0.5978\n",
      "0.61675\n"
     ]
    }
   ],
   "source": [
    "print(np.mean(counter_array))\n",
    "print(CLT_array_4)\n",
    "print(min(CLT_array_4))\n",
    "print(max(CLT_array_4))"
   ]
  },
  {
   "cell_type": "markdown",
   "metadata": {},
   "source": [
    "## Playber B Strat C=2"
   ]
  },
  {
   "cell_type": "code",
   "execution_count": 188,
   "metadata": {},
   "outputs": [],
   "source": [
    "CLT_array_4=[]\n",
    "for j in range(10):\n",
    "    counter_array=[]\n",
    "    score_1_array=[]\n",
    "    score_2_array=[]\n",
    "    winner_array=[]\n",
    "    for i in range(10000):\n",
    "        counter=0\n",
    "        score_1=0\n",
    "        score_2=0\n",
    "        win_score=50\n",
    "\n",
    "        while score_1 < win_score and score_2 < win_score:\n",
    "            counter +=1\n",
    "\n",
    "            die_2 = random.randint(1,6)\n",
    "            if (score_2 + die_2 - score_1) >= 2:\n",
    "                score_2 = score_2 + die_2\n",
    "\n",
    "            else:\n",
    "                if score_1-die_2<0:\n",
    "                    score_1=0\n",
    "                else:\n",
    "                    score_1 = score_1 - die_2\n",
    "            \n",
    "            die_1 = random.randint(1,6)\n",
    "\n",
    "            if (score_1 + die_1) >= score_2:\n",
    "                score_1 = score_1 + die_1\n",
    "\n",
    "            else:\n",
    "                if score_2-die_1<0:\n",
    "                    score_2=0\n",
    "                else:\n",
    "                    score_2 = score_2 - die_1\n",
    "\n",
    "        counter_array.append(counter)\n",
    "        score_1_array.append(score_1)\n",
    "        score_2_array.append(score_2)\n",
    "\n",
    "        if score_1 > score_2:\n",
    "            winner_array.append(1)\n",
    "        elif score_1 < score_2:\n",
    "            winner_array.append(0)\n",
    "        elif score_1 == score_2:\n",
    "            winner_array.append(.5)\n",
    "        \n",
    "        \n",
    "    CLT_array_4.append(np.mean(winner_array))"
   ]
  },
  {
   "cell_type": "code",
   "execution_count": 189,
   "metadata": {},
   "outputs": [
    {
     "name": "stdout",
     "output_type": "stream",
     "text": [
      "98.1683\n",
      "[0.57565, 0.5854, 0.58155, 0.58, 0.5802, 0.58465, 0.57575, 0.58635, 0.5835, 0.57755]\n",
      "0.57565\n",
      "0.58635\n"
     ]
    }
   ],
   "source": [
    "print(np.mean(counter_array))\n",
    "print(CLT_array_4)\n",
    "print(min(CLT_array_4))\n",
    "print(max(CLT_array_4))"
   ]
  },
  {
   "cell_type": "markdown",
   "metadata": {},
   "source": [
    "## Playber B Strat C=3"
   ]
  },
  {
   "cell_type": "code",
   "execution_count": 190,
   "metadata": {},
   "outputs": [],
   "source": [
    "CLT_array_4=[]\n",
    "for j in range(10):\n",
    "    counter_array=[]\n",
    "    score_1_array=[]\n",
    "    score_2_array=[]\n",
    "    winner_array=[]\n",
    "    for i in range(10000):\n",
    "        counter=0\n",
    "        score_1=0\n",
    "        score_2=0\n",
    "        win_score=50\n",
    "\n",
    "        while score_1 < win_score and score_2 < win_score:\n",
    "            counter +=1\n",
    "\n",
    "            die_2 = random.randint(1,6)\n",
    "            if (score_2 + die_2 - score_1) >= 3:\n",
    "                score_2 = score_2 + die_2\n",
    "\n",
    "            else:\n",
    "                if score_1-die_2<0:\n",
    "                    score_1=0\n",
    "                else:\n",
    "                    score_1 = score_1 - die_2\n",
    "            \n",
    "            die_1 = random.randint(1,6)\n",
    "\n",
    "            if (score_1 + die_1) >= score_2:\n",
    "                score_1 = score_1 + die_1\n",
    "\n",
    "            else:\n",
    "                if score_2-die_1<0:\n",
    "                    score_2=0\n",
    "                else:\n",
    "                    score_2 = score_2 - die_1\n",
    "\n",
    "        counter_array.append(counter)\n",
    "        score_1_array.append(score_1)\n",
    "        score_2_array.append(score_2)\n",
    "\n",
    "        if score_1 > score_2:\n",
    "            winner_array.append(1)\n",
    "        elif score_1 < score_2:\n",
    "            winner_array.append(0)\n",
    "        elif score_1 == score_2:\n",
    "            winner_array.append(.5)\n",
    "        \n",
    "        \n",
    "    CLT_array_4.append(np.mean(winner_array))"
   ]
  },
  {
   "cell_type": "code",
   "execution_count": 191,
   "metadata": {},
   "outputs": [
    {
     "name": "stdout",
     "output_type": "stream",
     "text": [
      "132.2163\n",
      "[0.55085, 0.54505, 0.56095, 0.55425, 0.5565, 0.56875, 0.5572, 0.56625, 0.55265, 0.5496]\n",
      "0.54505\n",
      "0.56875\n"
     ]
    }
   ],
   "source": [
    "print(np.mean(counter_array))\n",
    "print(CLT_array_4)\n",
    "print(min(CLT_array_4))\n",
    "print(max(CLT_array_4))"
   ]
  },
  {
   "cell_type": "markdown",
   "metadata": {},
   "source": [
    "## Playber B Strat C=4"
   ]
  },
  {
   "cell_type": "code",
   "execution_count": 192,
   "metadata": {},
   "outputs": [],
   "source": [
    "CLT_array_4=[]\n",
    "for j in range(10):\n",
    "    counter_array=[]\n",
    "    score_1_array=[]\n",
    "    score_2_array=[]\n",
    "    winner_array=[]\n",
    "    for i in range(10000):\n",
    "        counter=0\n",
    "        score_1=0\n",
    "        score_2=0\n",
    "        win_score=50\n",
    "\n",
    "        while score_1 < win_score and score_2 < win_score:\n",
    "            counter +=1\n",
    "\n",
    "            die_2 = random.randint(1,6)\n",
    "            if (score_2 + die_2 - score_1) >= 4:\n",
    "                score_2 = score_2 + die_2\n",
    "\n",
    "            else:\n",
    "                if score_1-die_2<0:\n",
    "                    score_1=0\n",
    "                else:\n",
    "                    score_1 = score_1 - die_2\n",
    "            \n",
    "            die_1 = random.randint(1,6)\n",
    "\n",
    "            if (score_1 + die_1) >= score_2:\n",
    "                score_1 = score_1 + die_1\n",
    "\n",
    "            else:\n",
    "                if score_2-die_1<0:\n",
    "                    score_2=0\n",
    "                else:\n",
    "                    score_2 = score_2 - die_1\n",
    "\n",
    "        counter_array.append(counter)\n",
    "        score_1_array.append(score_1)\n",
    "        score_2_array.append(score_2)\n",
    "\n",
    "        if score_1 > score_2:\n",
    "            winner_array.append(1)\n",
    "        elif score_1 < score_2:\n",
    "            winner_array.append(0)\n",
    "        elif score_1 == score_2:\n",
    "            winner_array.append(.5)\n",
    "        \n",
    "        \n",
    "    CLT_array_4.append(np.mean(winner_array))"
   ]
  },
  {
   "cell_type": "code",
   "execution_count": 193,
   "metadata": {},
   "outputs": [
    {
     "name": "stdout",
     "output_type": "stream",
     "text": [
      "194.6804\n",
      "[0.5713, 0.57855, 0.58025, 0.57345, 0.5757, 0.57865, 0.5825, 0.57225, 0.5771, 0.5814]\n",
      "0.5713\n",
      "0.5825\n"
     ]
    }
   ],
   "source": [
    "print(np.mean(counter_array))\n",
    "print(CLT_array_4)\n",
    "print(min(CLT_array_4))\n",
    "print(max(CLT_array_4))"
   ]
  }
 ],
 "metadata": {
  "kernelspec": {
   "display_name": "Python 3",
   "language": "python",
   "name": "python3"
  },
  "language_info": {
   "codemirror_mode": {
    "name": "ipython",
    "version": 3
   },
   "file_extension": ".py",
   "mimetype": "text/x-python",
   "name": "python",
   "nbconvert_exporter": "python",
   "pygments_lexer": "ipython3",
   "version": "3.8.3"
  }
 },
 "nbformat": 4,
 "nbformat_minor": 4
}
