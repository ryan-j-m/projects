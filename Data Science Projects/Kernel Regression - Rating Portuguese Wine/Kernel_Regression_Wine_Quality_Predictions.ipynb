{
 "cells": [
  {
   "cell_type": "markdown",
   "id": "9e1fb33b",
   "metadata": {},
   "source": [
    "## import libraries"
   ]
  },
  {
   "cell_type": "code",
   "execution_count": 1,
   "id": "b7c0a21e",
   "metadata": {},
   "outputs": [],
   "source": [
    "import numpy as np\n",
    "from sklearn import linear_model, preprocessing, metrics, kernel_ridge, model_selection\n",
    "import matplotlib.pyplot as plt"
   ]
  },
  {
   "cell_type": "markdown",
   "id": "61036277",
   "metadata": {},
   "source": [
    "## import data and standardize"
   ]
  },
  {
   "cell_type": "code",
   "execution_count": 2,
   "id": "79ead77a",
   "metadata": {},
   "outputs": [],
   "source": [
    "scaler_x = preprocessing.StandardScaler()\n",
    "scaler_y = preprocessing.StandardScaler()\n",
    "\n",
    "Train = np.loadtxt('wine_training.csv', delimiter = ',')\n",
    "train_x = scaler_x.fit_transform(Train[:, 0:11])\n",
    "train_y = Train[:,11].reshape(-1,1)\n",
    "train_y = scaler_y.fit_transform(train_y)\n",
    "\n",
    "Test = np.loadtxt('wine_test.csv', delimiter = ',')\n",
    "test_x = scaler_x.transform(Test[:, 0:11])\n",
    "test_y = Test[:,11].reshape(-1,1)\n",
    "test_y = scaler_y.transform(test_y)\n",
    "\n",
    "new_batch = scaler_x.transform(np.loadtxt('wine_new_batch.csv', delimiter = ','))\n"
   ]
  },
  {
   "cell_type": "markdown",
   "id": "62ee7fb3",
   "metadata": {},
   "source": [
    "## Visualize data"
   ]
  },
  {
   "cell_type": "code",
   "execution_count": 3,
   "id": "479a13d5",
   "metadata": {},
   "outputs": [],
   "source": [
    "features = ['fixed acidity', 'volatile acidity', 'citric acid','residual sugar','chlorides',\n",
    "           'free sulfur dioxide','total sulfur dioxide','density','pH','sulphates','alcohol']"
   ]
  },
  {
   "cell_type": "markdown",
   "id": "442baf5d",
   "metadata": {
    "scrolled": true
   },
   "source": [
    "# generate some plots to visualize the data set \n",
    "\n",
    "fig, ax = plt.subplots(4,3, figsize=(24,24))\n",
    "\n",
    "for j in range(4):\n",
    "  for i in range(3):\n",
    "    if i + j*3 < 11:\n",
    "        ax[j][i].scatter( train_x[:, i+ j*3], train_y )\n",
    "        ax[j][i].set_xlabel(str(features[i + j*3]), fontsize=20)\n",
    "    else:\n",
    "        ax[j][i].axis('off')"
   ]
  },
  {
   "cell_type": "markdown",
   "id": "ee3ddb6a",
   "metadata": {},
   "source": [
    "## Linear Regression"
   ]
  },
  {
   "cell_type": "code",
   "execution_count": 5,
   "id": "ed80882b",
   "metadata": {},
   "outputs": [],
   "source": [
    "reg = linear_model.LinearRegression().fit(train_x, train_y)\n",
    "\n",
    "Lin_train_MSE = metrics.mean_squared_error(train_y, reg.predict(train_x))\n",
    "\n",
    "Lin_test_MSE = metrics.mean_squared_error(test_y, reg.predict(test_x))"
   ]
  },
  {
   "cell_type": "code",
   "execution_count": 6,
   "id": "96e92419",
   "metadata": {},
   "outputs": [
    {
     "name": "stdout",
     "output_type": "stream",
     "text": [
      "0.6278484956554882\n",
      "0.747169690518721\n"
     ]
    }
   ],
   "source": [
    "print(Lin_train_MSE)\n",
    "print(Lin_test_MSE)"
   ]
  },
  {
   "cell_type": "markdown",
   "id": "e43cb2b0",
   "metadata": {},
   "source": [
    "## Gaussian Kernel Regression"
   ]
  },
  {
   "cell_type": "code",
   "execution_count": 7,
   "id": "68dfa430",
   "metadata": {},
   "outputs": [],
   "source": [
    "gaus_alpha = np.linspace(-3,-2.5,10)\n",
    "gaus_gamma = np.linspace(-5.02,-4.9,10)"
   ]
  },
  {
   "cell_type": "code",
   "execution_count": 8,
   "id": "45bc5045",
   "metadata": {},
   "outputs": [
    {
     "data": {
      "text/plain": [
       "GridSearchCV(cv=10, estimator=KernelRidge(), n_jobs=-1,\n",
       "             param_grid={'alpha': array([0.125     , 0.1299074 , 0.13500747, 0.14030776, 0.14581613,\n",
       "       0.15154076, 0.15749013, 0.16367307, 0.17009875, 0.1767767 ]),\n",
       "                         'gamma': array([0.03081977, 0.03110593, 0.03139474, 0.03168623, 0.03198043,\n",
       "       0.03227737, 0.03257706, 0.03287953, 0.03318481, 0.03349292]),\n",
       "                         'kernel': ['rbf']},\n",
       "             return_train_score=True, scoring='neg_mean_squared_error')"
      ]
     },
     "execution_count": 8,
     "metadata": {},
     "output_type": "execute_result"
    }
   ],
   "source": [
    "parameters = {'kernel':['rbf'], 'gamma':2**gaus_gamma, 'alpha':2**gaus_alpha}\n",
    "ker_reg = kernel_ridge.KernelRidge()\n",
    "clf_gauss = model_selection.GridSearchCV(ker_reg, parameters, cv = 10, return_train_score = True, \n",
    "                                         scoring = \"neg_mean_squared_error\", n_jobs = -1)\n",
    "clf_gauss.fit(train_x, train_y)"
   ]
  },
  {
   "cell_type": "code",
   "execution_count": 9,
   "id": "d9255b36",
   "metadata": {},
   "outputs": [
    {
     "name": "stdout",
     "output_type": "stream",
     "text": [
      "alpha : -2.7222222222222223\n",
      "alpha : 0.15154075835169306\n",
      "gamma : -4.993333333333333\n",
      "gamma : 0.03139473982506418\n",
      "sigma : 3.9907687061080934\n"
     ]
    }
   ],
   "source": [
    "print('alpha : ' + str(np.log2(clf_gauss.best_estimator_.alpha)))\n",
    "print('alpha : ' + str(clf_gauss.best_estimator_.alpha))\n",
    "\n",
    "print('gamma : ' + str(np.log2(clf_gauss.best_estimator_.gamma)))\n",
    "print('gamma : ' + str(clf_gauss.best_estimator_.gamma))\n",
    "print('sigma : ' + str(1/np.sqrt(2*clf_gauss.best_estimator_.gamma)))"
   ]
  },
  {
   "cell_type": "markdown",
   "id": "a0b9428a",
   "metadata": {},
   "source": [
    "## Laplacian Kernel Regression"
   ]
  },
  {
   "cell_type": "code",
   "execution_count": 10,
   "id": "e76c59eb",
   "metadata": {},
   "outputs": [],
   "source": [
    "lap_alpha = np.linspace(-2.5,-2,10)\n",
    "lap_gamma = np.linspace(-2.1,-2,10)"
   ]
  },
  {
   "cell_type": "code",
   "execution_count": 11,
   "id": "66d295d7",
   "metadata": {},
   "outputs": [
    {
     "data": {
      "text/plain": [
       "GridSearchCV(cv=10, estimator=KernelRidge(), n_jobs=-1,\n",
       "             param_grid={'alpha': array([0.1767767 , 0.18371681, 0.19092939, 0.19842513, 0.20621515,\n",
       "       0.214311  , 0.22272468, 0.23146868, 0.24055596, 0.25      ]),\n",
       "                         'gamma': array([0.23325825, 0.23506165, 0.236879  , 0.2387104 , 0.24055596,\n",
       "       0.24241579, 0.24428999, 0.24617869, 0.24808199, 0.25      ]),\n",
       "                         'kernel': ['laplacian']},\n",
       "             return_train_score=True, scoring='neg_mean_squared_error')"
      ]
     },
     "execution_count": 11,
     "metadata": {},
     "output_type": "execute_result"
    }
   ],
   "source": [
    "parameters = {'kernel':['laplacian'], 'gamma':2**lap_gamma, 'alpha':2**lap_alpha}\n",
    "ker_reg = kernel_ridge.KernelRidge()\n",
    "clf_lap = model_selection.GridSearchCV(ker_reg, parameters, cv = 10, return_train_score = True, \n",
    "                                       scoring = \"neg_mean_squared_error\", n_jobs = -1)\n",
    "clf_lap.fit(train_x, train_y)"
   ]
  },
  {
   "cell_type": "code",
   "execution_count": 12,
   "id": "3f5f6152",
   "metadata": {},
   "outputs": [
    {
     "name": "stdout",
     "output_type": "stream",
     "text": [
      "alpha : -2.1666666666666665\n",
      "alpha : 0.22272467953508485\n",
      "gamma : -2.022222222222222\n",
      "gamma : 0.24617868823360783\n",
      "sigma : 1.4251473695757046\n"
     ]
    }
   ],
   "source": [
    "print('alpha : ' + str(np.log2(clf_lap.best_estimator_.alpha)))\n",
    "print('alpha : ' + str(clf_lap.best_estimator_.alpha))\n",
    "print('gamma : ' + str(np.log2(clf_lap.best_estimator_.gamma)))\n",
    "print('gamma : ' + str(clf_lap.best_estimator_.gamma))\n",
    "print('sigma : ' + str(1/np.sqrt(2*clf_lap.best_estimator_.gamma)))"
   ]
  },
  {
   "cell_type": "code",
   "execution_count": 13,
   "id": "3a5ecc68",
   "metadata": {},
   "outputs": [],
   "source": [
    "pred_train_gauss = clf_gauss.predict(train_x)\n",
    "pred_test_gauss = clf_gauss.predict(test_x)\n",
    "\n",
    "pred_train_lap = clf_lap.predict(train_x)\n",
    "pred_test_lap = clf_lap.predict(test_x)"
   ]
  },
  {
   "cell_type": "code",
   "execution_count": 14,
   "id": "99fe8251",
   "metadata": {},
   "outputs": [],
   "source": [
    "MSE_train_gauss = metrics.mean_squared_error(train_y, pred_train_gauss)\n",
    "MSE_test_gauss = metrics.mean_squared_error(test_y, pred_test_gauss)\n",
    "\n",
    "MSE_train_lap = metrics.mean_squared_error(train_y, pred_train_lap)\n",
    "MSE_test_lap = metrics.mean_squared_error(test_y, pred_test_lap)\n",
    "\n"
   ]
  },
  {
   "cell_type": "code",
   "execution_count": 15,
   "id": "a6606503",
   "metadata": {},
   "outputs": [
    {
     "name": "stdout",
     "output_type": "stream",
     "text": [
      "Linear regression train MSE = 0.6278484956554882\n",
      "Linear regression test MSE = 0.747169690518721\n",
      "MSE_train_gauss = 0.45826976506129075\n",
      "MSE_test_gauss = 0.6834997030985077\n",
      "MSE_train_lap = 0.05111511239858154\n",
      "MSE_train_lap = 0.6067475712133398\n"
     ]
    }
   ],
   "source": [
    "print('Linear regression train MSE = ' + str(Lin_train_MSE))\n",
    "print('Linear regression test MSE = ' + str(Lin_test_MSE))\n",
    "print('MSE_train_gauss = ' + str(MSE_train_gauss))\n",
    "print('MSE_test_gauss = ' + str(MSE_test_gauss))\n",
    "print('MSE_train_lap = ' + str(MSE_train_lap))\n",
    "print('MSE_train_lap = ' + str(MSE_test_lap))"
   ]
  },
  {
   "cell_type": "code",
   "execution_count": 16,
   "id": "552f0683",
   "metadata": {},
   "outputs": [],
   "source": [
    "new_batch_lin = reg.predict(new_batch)\n",
    "new_batch_gauss = clf_gauss.predict(new_batch)\n",
    "new_batch_lap = clf_lap.predict(new_batch)\n"
   ]
  },
  {
   "cell_type": "code",
   "execution_count": 17,
   "id": "016daa6d",
   "metadata": {},
   "outputs": [],
   "source": [
    "new_batch_lin_pred = scaler_y.inverse_transform(new_batch_lin)\n",
    "new_batch_gauss_pred = scaler_y.inverse_transform(new_batch_gauss)\n",
    "new_batch_lap_pred = scaler_y.inverse_transform(new_batch_lap)"
   ]
  },
  {
   "cell_type": "code",
   "execution_count": 18,
   "id": "b3e824c1",
   "metadata": {},
   "outputs": [
    {
     "name": "stdout",
     "output_type": "stream",
     "text": [
      "new batch linear regression predicton: [[6.00469789]\n",
      " [5.28767761]\n",
      " [5.56363072]\n",
      " [6.067022  ]\n",
      " [5.94248207]]\n",
      "new batch gaussian predicton: [[5.97874758]\n",
      " [5.43930772]\n",
      " [5.33399219]\n",
      " [6.11520117]\n",
      " [6.04010049]]\n",
      "new batch laplacian predicton: [[6.03438545]\n",
      " [5.48735329]\n",
      " [5.62171015]\n",
      " [5.95472088]\n",
      " [5.99109488]]\n"
     ]
    }
   ],
   "source": [
    "print('new batch linear regression predicton: ' + str(new_batch_lin_pred))\n",
    "print('new batch gaussian predicton: ' + str(new_batch_gauss_pred))\n",
    "print('new batch laplacian predicton: ' + str(new_batch_lap_pred))"
   ]
  },
  {
   "cell_type": "markdown",
   "id": "c23a9093",
   "metadata": {},
   "source": [
    "## Gauss Contour plot"
   ]
  },
  {
   "cell_type": "code",
   "execution_count": 19,
   "id": "5ca6433b",
   "metadata": {},
   "outputs": [
    {
     "name": "stdout",
     "output_type": "stream",
     "text": [
      "[[0.3931865  0.39303614 0.39287777 0.39271175 0.39253843 0.39235816\n",
      "  0.39217129 0.39197818 0.39177916 0.39157457]\n",
      " [0.39386725 0.39375678 0.39363689 0.39350791 0.39337022 0.39322414\n",
      "  0.39307003 0.39290823 0.39273909 0.39256294]\n",
      " [0.39430647 0.39424008 0.39416302 0.39407562 0.39397822 0.39387114\n",
      "  0.39375474 0.39362934 0.39349527 0.39335286]\n",
      " [0.39451323 0.39449337 0.39446179 0.39441881 0.39436474 0.39429991\n",
      "  0.39422462 0.3941392  0.39404395 0.3939392 ]\n",
      " [0.39450732 0.39453483 0.39454978 0.39455249 0.39454323 0.3945223\n",
      "  0.39449    0.39444662 0.39439244 0.39432777]\n",
      " [0.39431487 0.39438942 0.39445077 0.39449919 0.39453495 0.39455832\n",
      "  0.39456957 0.39456897 0.3945568  0.39453331]\n",
      " [0.3939629  0.39408369 0.39419073 0.39428425 0.39436453 0.3944318\n",
      "  0.39448635 0.3945284  0.39455822 0.39457606]\n",
      " [0.39347365 0.39364023 0.39379245 0.39393058 0.39405487 0.39416558\n",
      "  0.39426296 0.39434725 0.39441871 0.39447758]\n",
      " [0.39285989 0.39307291 0.39327082 0.39345391 0.39362247 0.39377676\n",
      "  0.39391704 0.39404358 0.39415662 0.39425643]\n",
      " [0.39212193 0.39238379 0.39262952 0.39285947 0.39307393 0.39327323\n",
      "  0.39345765 0.39362748 0.39378301 0.39392451]]\n"
     ]
    }
   ],
   "source": [
    "K_gamma = 10\n",
    "K_lmbd = 10\n",
    "\n",
    "lmbd = np.linspace(-3, -2.5, K_lmbd)\n",
    "gamma = np.linspace(-5.5, -4.5, K_gamma)\n",
    "\n",
    "scores = np.zeros((K_gamma, K_lmbd))\n",
    "scores_std = np.zeros((K_gamma, K_lmbd))\n",
    "\n",
    "KRR_CV = kernel_ridge.KernelRidge(kernel='rbf')\n",
    "\n",
    "for i in range(K_gamma):\n",
    "\n",
    "  KRR_CV.gamma = 2**gamma[i]\n",
    "\n",
    "  for j in range(K_lmbd): \n",
    "\n",
    "    KRR_CV.alpha = (2**lmbd[j])\n",
    "    this_score = model_selection.cross_val_score(KRR_CV, train_x, train_y, cv=10)\n",
    "\n",
    "    scores[i,j] = np.abs(np.mean(this_score))\n",
    "    scores_std[i,j] = np.abs(np.std(this_score))\n",
    "\n",
    "\n",
    "print(scores)"
   ]
  },
  {
   "cell_type": "markdown",
   "id": "8f9980d6",
   "metadata": {},
   "source": [
    "sv, lv = np.meshgrid(gamma, lmbd)\n",
    "\n",
    "fig1, ax1 = plt.subplots(1,2, figsize=(20,10))\n",
    "\n",
    "cm0 = ax1[0].contourf(2**((-sv-1)/2), 2**lv, scores)\n",
    "ax1[0].set_xlabel('$\\sigma$')\n",
    "ax1[0].set_ylabel('$\\lambda$')\n",
    "ax1[0].set_title('MSE')\n",
    "fig1.colorbar(cm0, ax=ax1[0])\n",
    "\n",
    "\n",
    "cm1 = ax1[1].contourf(2**((-sv-1)/2), 2**lv, scores_std)\n",
    "ax1[1].set_xlabel('$\\sigma$')\n",
    "ax1[1].set_ylabel('$\\lambda$')\n",
    "ax1[1].set_title('MSE std')\n",
    "fig1.colorbar(cm1, ax=ax1[1])\n",
    "\n",
    "\n",
    "fig1.tight_layout()"
   ]
  },
  {
   "cell_type": "markdown",
   "id": "7f242aec",
   "metadata": {},
   "source": [
    "## Laplacian Countour plot"
   ]
  },
  {
   "cell_type": "code",
   "execution_count": 21,
   "id": "dca07d22",
   "metadata": {},
   "outputs": [
    {
     "name": "stdout",
     "output_type": "stream",
     "text": [
      "[[0.44881235 0.44889679 0.44896566 0.44901822 0.4490537  0.44907135\n",
      "  0.44907042 0.44905018 0.44900989 0.44894884]\n",
      " [0.44892354 0.44900105 0.44906311 0.44910896 0.44913784 0.44914899\n",
      "  0.44914166 0.4491151  0.4490686  0.44900142]\n",
      " [0.44902268 0.44909318 0.44914833 0.44918737 0.44920954 0.44921407\n",
      "  0.44920022 0.44916723 0.44911437 0.44904092]\n",
      " [0.44910911 0.44917251 0.44922065 0.44925278 0.44926813 0.44926594\n",
      "  0.44924544 0.4492059  0.44914656 0.4490667 ]\n",
      " [0.44918211 0.44923833 0.44927939 0.44930451 0.44931294 0.44930391\n",
      "  0.44927666 0.44923043 0.44916449 0.44907809]\n",
      " [0.44924099 0.44928994 0.44932382 0.44934184 0.44934325 0.44932728\n",
      "  0.44929316 0.44924014 0.44916747 0.4490744 ]\n",
      " [0.44928499 0.44932661 0.44935322 0.44936406 0.44935835 0.44933533\n",
      "  0.44929424 0.4492343  0.44915478 0.44905492]\n",
      " [0.44931337 0.44934758 0.44936685 0.44937041 0.44935749 0.44932733\n",
      "  0.44927915 0.44921219 0.4491257  0.44901892]\n",
      " [0.44932535 0.44935208 0.44936393 0.44936013 0.44933992 0.44930251\n",
      "  0.44924715 0.44917306 0.44907948 0.44896566]\n",
      " [0.44932015 0.44933933 0.44934369 0.44933245 0.44930485 0.4492601\n",
      "  0.44919746 0.44911613 0.44901535 0.44889437]]\n"
     ]
    }
   ],
   "source": [
    "K_gamma = 10\n",
    "K_lmbd = 10\n",
    "\n",
    "lmbd = np.linspace(-2.4, -1.9, K_lmbd)\n",
    "gamma = np.linspace(-2.1, -1.9, K_gamma)\n",
    "\n",
    "scores = np.zeros((K_gamma, K_lmbd))\n",
    "scores_std = np.zeros((K_gamma, K_lmbd))\n",
    "\n",
    "KRR_CV = kernel_ridge.KernelRidge(kernel='laplacian')\n",
    "\n",
    "for i in range(K_gamma):\n",
    "\n",
    "  KRR_CV.gamma = 2**gamma[i]\n",
    "\n",
    "  for j in range(K_lmbd): \n",
    "\n",
    "    KRR_CV.alpha = (2**lmbd[j])\n",
    "    this_score = model_selection.cross_val_score(KRR_CV, train_x, train_y, cv=10)\n",
    "\n",
    "    scores[i,j] = np.abs(np.mean(this_score))\n",
    "    scores_std[i,j] = np.abs(np.std(this_score))\n",
    "\n",
    "\n",
    "print(scores)"
   ]
  },
  {
   "cell_type": "markdown",
   "id": "005fc1fb",
   "metadata": {},
   "source": [
    "sv, lv = np.meshgrid(gamma, lmbd)\n",
    "\n",
    "#fig = plt.figure(figsize = (10, 7))\n",
    "#ax = plt.axes(projection =\"3d\")\n",
    "\n",
    "#ax.scatter(sv, lv, np.log(scores))\n",
    "#ax.set_xlabel('$\\sigma$', fontsize=20)\n",
    "#ax.set_ylabel('$\\lambda$', fontsize=20)\n",
    "\n",
    "fig2, ax2 = plt.subplots(1,2, figsize=(20,10))\n",
    "\n",
    "cm0 = ax2[0].contourf(2**((-sv-1)/2), 2**lv, scores)\n",
    "ax2[0].set_xlabel('$\\sigma$')\n",
    "ax2[0].set_ylabel('$\\lambda$')\n",
    "ax2[0].set_title('MSE')\n",
    "fig2.colorbar(cm0, ax=ax2[0])\n",
    "\n",
    "\n",
    "cm1 = ax2[1].contourf(2**((-sv-1)/2), 2**lv, scores_std)\n",
    "ax2[1].set_xlabel('$\\sigma$')\n",
    "ax2[1].set_ylabel('$\\lambda$')\n",
    "ax2[1].set_title('MSE std')\n",
    "fig2.colorbar(cm1, ax=ax2[1])\n",
    "\n",
    "\n",
    "fig2.tight_layout()"
   ]
  },
  {
   "cell_type": "code",
   "execution_count": 23,
   "id": "ff61ad26",
   "metadata": {},
   "outputs": [
    {
     "data": {
      "text/plain": [
       "array([[0.05422037, 0.05416397, 0.05410818, 0.05405308, 0.05399872,\n",
       "        0.05394517, 0.0538925 , 0.05384076, 0.05379001, 0.0537403 ],\n",
       "       [0.05415538, 0.05409957, 0.05404433, 0.05398973, 0.05393583,\n",
       "        0.05388269, 0.05383038, 0.05377896, 0.05372847, 0.05367897],\n",
       "       [0.05409473, 0.0540395 , 0.05398479, 0.05393066, 0.0538772 ,\n",
       "        0.05382445, 0.05377248, 0.05372135, 0.05367111, 0.05362181],\n",
       "       [0.05403847, 0.05398379, 0.05392958, 0.05387592, 0.05382287,\n",
       "        0.05377049, 0.05371884, 0.05366799, 0.05361797, 0.05356886],\n",
       "       [0.05398663, 0.05393248, 0.05387875, 0.05382553, 0.05377288,\n",
       "        0.05372085, 0.0536695 , 0.0536189 , 0.0535691 , 0.05352014],\n",
       "       [0.05393925, 0.05388559, 0.05383233, 0.05377952, 0.05372724,\n",
       "        0.05367553, 0.05362447, 0.05357411, 0.05352449, 0.05347568],\n",
       "       [0.05389632, 0.05384314, 0.05379031, 0.0537379 , 0.05368597,\n",
       "        0.05363457, 0.05358377, 0.05353362, 0.05348418, 0.05343549],\n",
       "       [0.05385785, 0.05380512, 0.05375271, 0.05370067, 0.05364906,\n",
       "        0.05359795, 0.05354739, 0.05349743, 0.05344814, 0.05339956],\n",
       "       [0.05382382, 0.05377153, 0.0537195 , 0.05366781, 0.05361651,\n",
       "        0.05356566, 0.05351531, 0.05346553, 0.05341638, 0.05336789],\n",
       "       [0.05379421, 0.05374232, 0.05369067, 0.0536393 , 0.05358828,\n",
       "        0.05353767, 0.05348752, 0.0534379 , 0.05338885, 0.05334043]])"
      ]
     },
     "execution_count": 23,
     "metadata": {},
     "output_type": "execute_result"
    }
   ],
   "source": [
    "scores_std"
   ]
  },
  {
   "cell_type": "code",
   "execution_count": 28,
   "id": "fdc60cc7",
   "metadata": {},
   "outputs": [],
   "source": [
    "#fig.savefig('features.png')\n",
    "#fig1.savefig('gauss_hyp.png')\n",
    "#fig2.savefig('lap_hyp.png')"
   ]
  },
  {
   "cell_type": "code",
   "execution_count": null,
   "id": "c7545d70",
   "metadata": {},
   "outputs": [],
   "source": []
  }
 ],
 "metadata": {
  "kernelspec": {
   "display_name": "Python 3 (ipykernel)",
   "language": "python",
   "name": "python3"
  },
  "language_info": {
   "codemirror_mode": {
    "name": "ipython",
    "version": 3
   },
   "file_extension": ".py",
   "mimetype": "text/x-python",
   "name": "python",
   "nbconvert_exporter": "python",
   "pygments_lexer": "ipython3",
   "version": "3.8.12"
  }
 },
 "nbformat": 4,
 "nbformat_minor": 5
}
