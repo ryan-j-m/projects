{
 "cells": [
  {
   "cell_type": "code",
   "execution_count": 27,
   "id": "fa0e9977",
   "metadata": {},
   "outputs": [],
   "source": [
    "import numpy as np\n",
    "import matplotlib.pyplot as plt\n",
    "import cvxpy as cvx\n",
    "import skimage as ski\n",
    "\n",
    "import skimage.io\n",
    "import skimage.transform\n",
    "\n",
    "import scipy.fftpack as spfft # for discrete cosine transform "
   ]
  },
  {
   "cell_type": "markdown",
   "id": "9960ba74",
   "metadata": {},
   "source": [
    "# read image\n",
    "img_og = ski.io.imread('SonOfMan.png')\n",
    "\n",
    "# convert to grayscale and visualize \n",
    "img_og = ski.color.rgb2gray(img_og)\n",
    "\n",
    "fig, ax = plt.subplots(1, 2, figsize=(20,10))\n",
    "ax[0].imshow(img_og, cmap = 'gray')\n",
    "ax[0].set_title(\"Original image\")\n",
    "\n",
    "print(\"Original size: \", img_og.shape)\n",
    "\n",
    "# resize image \n",
    "img = ski.transform.rescale( img_og, 0.18, anti_aliasing=False)\n",
    "\n",
    "print(\"Rescaled size: \", img.shape)\n",
    "\n",
    "ax[1].imshow(img, cmap='gray')\n",
    "ax[1].set_title(\"Rescaled image\")"
   ]
  },
  {
   "cell_type": "code",
   "execution_count": 29,
   "id": "6bf18f17",
   "metadata": {},
   "outputs": [],
   "source": [
    "# constrauct forward and inverse DCT matrices \n",
    "\n",
    "# construct DCT matrix\n",
    "def construct_DCT_Mat( Nx, Ny ):\n",
    "\n",
    "  # input : Nx number of columns of image \n",
    "  #         Ny number of rows of image \n",
    "\n",
    "  # output: D DCT matrix mapping image.flatten() to \n",
    "  #         DCT(image).flatten()\n",
    "\n",
    "  Dx = spfft.dct(np.eye(Nx), axis =0, norm='ortho')\n",
    "\n",
    "  Dy = spfft.dct(np.eye(Ny), axis = 0, norm='ortho')\n",
    "\n",
    "  D = np.kron(Dy, Dx)\n",
    "\n",
    "  return D\n",
    "\n",
    "# construct inverse DCT matrix\n",
    "def construct_iDCT_Mat( Nx, Ny ):\n",
    "\n",
    "  # input : Nx number of columns of image \n",
    "  #         Ny number of rows of image \n",
    "\n",
    "  # output: iD iDCT matrix mapping DCT(image).flatten() to \n",
    "  #         image.flatten()\n",
    "\n",
    "  Dx = spfft.idct(np.eye(Nx), axis =0, norm='ortho')\n",
    "\n",
    "  Dy = spfft.idct(np.eye(Ny), axis = 0, norm = 'ortho')\n",
    "\n",
    "  D = np.kron(Dy, Dx)\n",
    "\n",
    "  return D"
   ]
  },
  {
   "cell_type": "code",
   "execution_count": 30,
   "id": "9cea6454",
   "metadata": {},
   "outputs": [],
   "source": [
    "img_DCT = construct_DCT_Mat(img.shape[1],img.shape[0])"
   ]
  },
  {
   "cell_type": "code",
   "execution_count": 31,
   "id": "2df55fb1",
   "metadata": {},
   "outputs": [],
   "source": [
    "img_iDCT = construct_iDCT_Mat(img.shape[1],img.shape[0])"
   ]
  },
  {
   "cell_type": "code",
   "execution_count": 32,
   "id": "95c69d08",
   "metadata": {},
   "outputs": [],
   "source": [
    "F = img.flatten()"
   ]
  },
  {
   "cell_type": "code",
   "execution_count": 33,
   "id": "340bd16b",
   "metadata": {},
   "outputs": [],
   "source": [
    "DCT_F = np.matmul(img_DCT, F)"
   ]
  },
  {
   "cell_type": "markdown",
   "id": "7e8846b5",
   "metadata": {},
   "source": [
    "fig3, ax3 = plt.subplots()\n",
    "ax3.set_xlabel('DCT Coefficients')\n",
    "ax3.set_ylabel('abs( DCT Coefficient Values )')\n",
    "ax3.plot(abs(DCT_F))"
   ]
  },
  {
   "cell_type": "code",
   "execution_count": 35,
   "id": "1ba8eab4",
   "metadata": {},
   "outputs": [],
   "source": [
    "DCT_F_5 = np.copy(DCT_F)\n",
    "DCT_F_5[abs(DCT_F_5) <= .298] = 0"
   ]
  },
  {
   "cell_type": "code",
   "execution_count": 36,
   "id": "34a49462",
   "metadata": {},
   "outputs": [
    {
     "data": {
      "text/plain": [
       "109"
      ]
     },
     "execution_count": 36,
     "metadata": {},
     "output_type": "execute_result"
    }
   ],
   "source": [
    "sum(np.abs(DCT_F_5) > 0)"
   ]
  },
  {
   "cell_type": "code",
   "execution_count": 37,
   "id": "6cd6ede8",
   "metadata": {},
   "outputs": [],
   "source": [
    "DCT_F_10 = np.copy(DCT_F)\n",
    "DCT_F_10[abs(DCT_F_10)<= .2098] = 0"
   ]
  },
  {
   "cell_type": "code",
   "execution_count": 38,
   "id": "b54c1186",
   "metadata": {},
   "outputs": [
    {
     "data": {
      "text/plain": [
       "217"
      ]
     },
     "execution_count": 38,
     "metadata": {},
     "output_type": "execute_result"
    }
   ],
   "source": [
    "sum(np.abs(DCT_F_10)>0)"
   ]
  },
  {
   "cell_type": "code",
   "execution_count": 39,
   "id": "d463dfee",
   "metadata": {},
   "outputs": [],
   "source": [
    "DCT_F_20 = np.copy(DCT_F)\n",
    "DCT_F_20[abs(DCT_F_20) <= .14195] = 0"
   ]
  },
  {
   "cell_type": "code",
   "execution_count": 40,
   "id": "0cfe37c1",
   "metadata": {},
   "outputs": [
    {
     "data": {
      "text/plain": [
       "435"
      ]
     },
     "execution_count": 40,
     "metadata": {},
     "output_type": "execute_result"
    }
   ],
   "source": [
    "sum(np.abs(DCT_F_20)>0)"
   ]
  },
  {
   "cell_type": "code",
   "execution_count": 41,
   "id": "f6ed35cb",
   "metadata": {},
   "outputs": [],
   "source": [
    "DCT_F_40 = np.copy(DCT_F)\n",
    "DCT_F_40[abs(DCT_F_40) <= .0833] = 0"
   ]
  },
  {
   "cell_type": "code",
   "execution_count": 42,
   "id": "e4ae1233",
   "metadata": {},
   "outputs": [
    {
     "data": {
      "text/plain": [
       "869"
      ]
     },
     "execution_count": 42,
     "metadata": {},
     "output_type": "execute_result"
    }
   ],
   "source": [
    "sum(np.abs(DCT_F_40)>0)"
   ]
  },
  {
   "cell_type": "code",
   "execution_count": 53,
   "id": "e6224e0b",
   "metadata": {},
   "outputs": [],
   "source": [
    "iDCT_5 = np.matmul(img_iDCT,DCT_F_5).reshape((53,41))\n",
    "iDCT_10 = np.matmul(img_iDCT,DCT_F_10).reshape((53,41))\n",
    "iDCT_20 = np.matmul(img_iDCT,DCT_F_20).reshape((53,41))\n",
    "iDCT_40 = np.matmul(img_iDCT,DCT_F_40).reshape((53,41))\n",
    "\n",
    "images = [iDCT_5,iDCT_10,iDCT_20,iDCT_40]"
   ]
  },
  {
   "cell_type": "markdown",
   "id": "efc1fefc",
   "metadata": {},
   "source": [
    "fig1, ax1 = plt.subplots(1, 4, figsize=(20,5))\n",
    "\n",
    "labels = [5,10,20,40]\n",
    "\n",
    "for i in range(4):\n",
    "        \n",
    "        ax1[i].imshow(images[i], cmap = 'gray')\n",
    "        ax1[i].set_title(str(labels[i]) + \"% of DCT Coefficients\")"
   ]
  },
  {
   "cell_type": "markdown",
   "id": "16a20832",
   "metadata": {},
   "source": [
    "## Part 2"
   ]
  },
  {
   "cell_type": "code",
   "execution_count": 45,
   "id": "751c582e",
   "metadata": {},
   "outputs": [],
   "source": [
    "vec_F = img.flatten()"
   ]
  },
  {
   "cell_type": "code",
   "execution_count": 46,
   "id": "703c76a7",
   "metadata": {},
   "outputs": [],
   "source": [
    "N = len(vec_F)"
   ]
  },
  {
   "cell_type": "code",
   "execution_count": 47,
   "id": "31d235c6",
   "metadata": {},
   "outputs": [
    {
     "data": {
      "text/plain": [
       "array([ 435,  869, 1304])"
      ]
     },
     "execution_count": 47,
     "metadata": {},
     "output_type": "execute_result"
    }
   ],
   "source": [
    "M = [.2 * N, .4 * N, .6 * N]\n",
    "M = np.around(M).astype(int)\n",
    "M"
   ]
  },
  {
   "cell_type": "code",
   "execution_count": 48,
   "id": "fe169923",
   "metadata": {},
   "outputs": [],
   "source": [
    "I = np.eye(N)"
   ]
  },
  {
   "cell_type": "code",
   "execution_count": null,
   "id": "8269dbb4",
   "metadata": {},
   "outputs": [],
   "source": [
    "results = np.zeros((3,3,N))\n",
    "\n",
    "for m in np.arange(len(M)):\n",
    "    M_m = M[m]\n",
    "    for j in np.arange(3):\n",
    "        rand_N = np.random.permutation(N)\n",
    "        Beta = I[rand_N[0:M_m],:]\n",
    "        y = np.matmul(Beta,vec_F)\n",
    "        A = np.matmul(Beta, img_iDCT)\n",
    "        \n",
    "        \n",
    "        x_l1 = cvx.Variable(N)\n",
    "        objective_l1 = cvx.Minimize( cvx.norm( x_l1, 1 ) )\n",
    "        constraints_l1 =  [A @ x_l1 == y]\n",
    "        probl1 = cvx.Problem( objective_l1, constraints_l1)\n",
    "        \n",
    "        probl1.solve(verbose=True, solver = 'ECOS', \n",
    "                                       reltol=1e-2)\n",
    "        \n",
    "        results[m][j][:] = x_l1.value"
   ]
  },
  {
   "cell_type": "markdown",
   "id": "1f359244",
   "metadata": {
    "scrolled": true
   },
   "source": [
    "fig2, ax2 = plt.subplots(3, 3, figsize=(15,15))\n",
    "\n",
    "for m in range(3):\n",
    "    for j in range(3):\n",
    "    \n",
    "        DCT_F = results[m][j][:]\n",
    "        \n",
    "        iDCT_F = np.matmul(img_iDCT,DCT_F).reshape((53,41))\n",
    "        \n",
    "        ax2[m][j].imshow(iDCT_F, cmap = 'gray')\n",
    "        ax2[m][j].set_title('M = ' + str(M[m]))"
   ]
  },
  {
   "cell_type": "code",
   "execution_count": 55,
   "id": "447512ef",
   "metadata": {},
   "outputs": [],
   "source": [
    "#fig2.savefig('image_recon.png')\n",
    "#fig.savefig('rescale.png')\n",
    "#fig1.savefig('DCT.png')\n",
    "#fig3.savefig('DCT_recon.png')\n",
    "#fig4.savefig('random.png')\n",
    "#fig6.savefig('unknownimage.png')"
   ]
  },
  {
   "cell_type": "markdown",
   "id": "09d689b4",
   "metadata": {},
   "source": [
    "## random pixel image"
   ]
  },
  {
   "cell_type": "markdown",
   "id": "39b1b51d",
   "metadata": {},
   "source": [
    "ave_results = results.mean(axis = 1)"
   ]
  },
  {
   "cell_type": "markdown",
   "id": "6954201e",
   "metadata": {
    "scrolled": true
   },
   "source": [
    "fig4, ax4 = plt.subplots(3,3, figsize = (15,15))\n",
    "\n",
    "\n",
    "for m in np.arange(len(M)):\n",
    "        temp = np.zeros(len(vec_F))\n",
    "        M_m = M[m]\n",
    "        rand_N = np.random.permutation(N)\n",
    "\n",
    "        temp[rand_N[0:M[m]]] = 1\n",
    "\n",
    "        rand_f = np.ones(2173)\n",
    "        rand_f[rand_N[0:M[m]]] = vec_F[rand_N[0:M[m]]]\n",
    "        \n",
    "        DCT_F_ave = results[m][0][:]\n",
    "        iDCT_F_ave = np.matmul(img_iDCT,DCT_F_ave).reshape((53,41))\n",
    "\n",
    "        ax4[0][m].imshow(temp.reshape((53,41)), cmap = 'gray')\n",
    "        ax4[1][m].imshow(rand_f.reshape((53,41)), cmap = 'gray')\n",
    "        ax4[2][m].imshow(iDCT_F_ave.reshape((53,41)), cmap = 'gray')\n",
    "        \n",
    "        ax4[0][m].set_title('M = ' + str(M[m]))\n",
    "        ax4[1][m].set_title('M = ' + str(M[m]))\n",
    "        ax4[2][m].set_title('M = ' + str(M[m]))"
   ]
  },
  {
   "cell_type": "markdown",
   "id": "23d6ec90",
   "metadata": {},
   "source": [
    "fig5, ax5 = plt.subplots()\n",
    "\n",
    "ax5.imshow(vec_F.reshape((53,41)), cmap = 'gray')"
   ]
  },
  {
   "cell_type": "code",
   "execution_count": 50,
   "id": "796e75e1",
   "metadata": {},
   "outputs": [],
   "source": [
    "#np.save('rand_pix', results)"
   ]
  },
  {
   "cell_type": "markdown",
   "id": "c9c06366",
   "metadata": {},
   "source": [
    "## uknown image"
   ]
  },
  {
   "cell_type": "markdown",
   "id": "68f90731",
   "metadata": {},
   "source": [
    "unknown = np.load('UnknownImage.npz')"
   ]
  },
  {
   "cell_type": "markdown",
   "id": "5d79bb87",
   "metadata": {},
   "source": [
    "unknown_DCT = construct_DCT_Mat(50,50)\n",
    "unknown_iDCT = construct_iDCT_Mat(50,50)"
   ]
  },
  {
   "cell_type": "markdown",
   "id": "b8addd4a",
   "metadata": {},
   "source": [
    "B = unknown['B']\n",
    "y = uknown['y']"
   ]
  },
  {
   "cell_type": "markdown",
   "id": "ed0f79d7",
   "metadata": {},
   "source": [
    "A = np.matmul(B, unknown_iDCT)\n",
    "\n",
    "\n",
    "x_l1 = cvx.Variable(2500)\n",
    "objective_l1 = cvx.Minimize( cvx.norm( x_l1, 1 ) )\n",
    "constraints_l1 =  [A @ x_l1 == y]\n",
    "probl1 = cvx.Problem( objective_l1, constraints_l1)\n",
    "\n",
    "probl1.solve(verbose=True, solver = 'ECOS', \n",
    "                               reltol=1e-2)"
   ]
  },
  {
   "cell_type": "markdown",
   "id": "08e48359",
   "metadata": {},
   "source": [
    "fig6, ax6 = plt.subplots(figsize = (10,10))\n",
    "\n",
    "DCT_unk = x_l1.value\n",
    "\n",
    "iDCT_unk = np.matmul(unknown_iDCT,DCT_unk).reshape((50,50))\n",
    "\n",
    "ax6.imshow(iDCT_unk, cmap = 'gray')\n",
    "ax6.set_title('Unknown Image')"
   ]
  },
  {
   "cell_type": "code",
   "execution_count": null,
   "id": "fde59839",
   "metadata": {},
   "outputs": [],
   "source": []
  }
 ],
 "metadata": {
  "kernelspec": {
   "display_name": "Python 3 (ipykernel)",
   "language": "python",
   "name": "python3"
  },
  "language_info": {
   "codemirror_mode": {
    "name": "ipython",
    "version": 3
   },
   "file_extension": ".py",
   "mimetype": "text/x-python",
   "name": "python",
   "nbconvert_exporter": "python",
   "pygments_lexer": "ipython3",
   "version": "3.8.12"
  }
 },
 "nbformat": 4,
 "nbformat_minor": 5
}
