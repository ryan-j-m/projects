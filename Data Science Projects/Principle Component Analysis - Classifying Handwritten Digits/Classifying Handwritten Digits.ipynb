{
 "cells": [
  {
   "cell_type": "code",
   "execution_count": 147,
   "id": "616b4e7a",
   "metadata": {},
   "outputs": [],
   "source": [
    "import numpy as np\n",
    "import matplotlib.pyplot as plt\n",
    "from scipy.spatial import distance_matrix\n",
    "from sklearn.decomposition import PCA\n",
    "from sklearn.preprocessing import StandardScaler\n",
    "from sklearn import linear_model\n",
    "from sklearn.metrics import mean_squared_error"
   ]
  },
  {
   "cell_type": "code",
   "execution_count": 148,
   "id": "2f5e9734",
   "metadata": {},
   "outputs": [],
   "source": [
    "d_test = np.load('MNIST_test_set.npy', allow_pickle = True)\n",
    "d_train = np.load('MNIST_training_set.npy', allow_pickle = True)"
   ]
  },
  {
   "cell_type": "code",
   "execution_count": 149,
   "id": "b0bce4d7",
   "metadata": {},
   "outputs": [
    {
     "name": "stdout",
     "output_type": "stream",
     "text": [
      "(2000, 256)\n",
      "(2000,)\n",
      "(500, 256)\n",
      "(500,)\n"
     ]
    }
   ],
   "source": [
    "X_train = d_train.item().get('features')\n",
    "Y_train = d_train.item().get('labels')\n",
    "\n",
    "print(X_train.shape)\n",
    "print(Y_train.shape)\n",
    "\n",
    "X_test = d_test.item().get('features')\n",
    "Y_test = d_test.item().get('labels')\n",
    "\n",
    "print(X_test.shape)\n",
    "print(Y_test.shape)"
   ]
  },
  {
   "cell_type": "markdown",
   "id": "b2852592",
   "metadata": {},
   "source": [
    "# Plot some of the training and test sets \n",
    "\n",
    "def plot_digits(XX, N):\n",
    "    \"\"\"Small helper function to plot N**2 digits.\"\"\"\n",
    "    fig, ax = plt.subplots(N, N, figsize=(8, 8))\n",
    "    for i in range(N):\n",
    "      for j in range(N):\n",
    "        ax[i,j].imshow(XX[(N)*i+j,:].reshape((16, 16)), cmap=\"Greys\")\n",
    "        ax[i,j].axis(\"off\")\n",
    "    \n",
    "    #fig.savefig('sample_256.png')\n",
    "\n",
    "plot_digits(X_train, 8)\n",
    "\n",
    "print(Y_train[22:28])"
   ]
  },
  {
   "cell_type": "code",
   "execution_count": 151,
   "id": "62490673",
   "metadata": {},
   "outputs": [
    {
     "data": {
      "text/plain": [
       "PCA(n_components=16)"
      ]
     },
     "execution_count": 151,
     "metadata": {},
     "output_type": "execute_result"
    }
   ],
   "source": [
    "pca = PCA(n_components = 16)\n",
    "pca.fit(X_train)"
   ]
  },
  {
   "cell_type": "code",
   "execution_count": 152,
   "id": "53dc3adb",
   "metadata": {},
   "outputs": [
    {
     "data": {
      "text/plain": [
       "PCA()"
      ]
     },
     "execution_count": 152,
     "metadata": {},
     "output_type": "execute_result"
    }
   ],
   "source": [
    "pca_full = PCA()\n",
    "pca_full.fit(X_train)"
   ]
  },
  {
   "cell_type": "markdown",
   "id": "618cc4f5",
   "metadata": {},
   "source": [
    "fig2, ax2 = plt.subplots(1,2, figsize = (15,5))\n",
    "ax2[0].plot(np.log(pca_full.singular_values_))\n",
    "ax2[0].set_xlabel('index $j$')\n",
    "ax2[0].set_ylabel('$\\log(\\sigma_j)$')\n",
    "ax2[0].set_title('256 Principal Components', fontsize=18)\n",
    "\n",
    "\n",
    "ax2[1].plot(np.log(pca.singular_values_))\n",
    "ax2[1].set_xlabel('index $j$')\n",
    "ax2[1].set_ylabel('$\\log(\\sigma_j)$')\n",
    "ax2[1].set_title('16 Principal Components', fontsize=18)\n"
   ]
  },
  {
   "cell_type": "markdown",
   "id": "eb66a881",
   "metadata": {},
   "source": [
    "fig3, ax3 = plt.subplots(4,4, figsize=(20,20))\n",
    "\n",
    "for k in range(4):\n",
    "  for j in range(4):\n",
    "    \n",
    "    im1 = np.reshape(pca.components_[(k*4 + j),:],(16,16))\n",
    "    \n",
    "    ax3[k,j].imshow(im1, cmap = 'Greys')\n",
    "    ax3[k,j].set_xlabel('x')\n",
    "    ax3[k,j].set_title('PC '+str(k*4 + j + 1))\n",
    "\n",
    "\n",
    "plt.show"
   ]
  },
  {
   "cell_type": "code",
   "execution_count": 155,
   "id": "3491cea6",
   "metadata": {},
   "outputs": [],
   "source": [
    "def Frob(comp, data):\n",
    "    pca_total = PCA()\n",
    "    pca_new = PCA(n_components = comp)\n",
    "    \n",
    "    pca_total.fit(data)\n",
    "    pca_new.fit(data)\n",
    "    frob_norm = np.sqrt(sum(np.square(pca_new.singular_values_)))/np.sqrt(sum(np.square(pca_total.singular_values_)))\n",
    "    return frob_norm"
   ]
  },
  {
   "cell_type": "code",
   "execution_count": 222,
   "id": "b1ffc233",
   "metadata": {},
   "outputs": [
    {
     "data": {
      "text/plain": [
       "0.9052289284016043"
      ]
     },
     "execution_count": 222,
     "metadata": {},
     "output_type": "execute_result"
    }
   ],
   "source": [
    "Frob(14, X_train)"
   ]
  },
  {
   "cell_type": "code",
   "execution_count": 198,
   "id": "45fc753e",
   "metadata": {},
   "outputs": [],
   "source": [
    "Frob_x = np.arange(1,257)\n",
    "Frob_y = np.zeros(256)\n",
    "\n",
    "for i in np.arange(256):\n",
    "    Frob_y[i] = Frob(Frob_x[i], X_train)"
   ]
  },
  {
   "cell_type": "markdown",
   "id": "289ca624",
   "metadata": {},
   "source": [
    "fig6, ax6 = plt.subplots()\n",
    "ax6.plot(Frob_x, Frob_y, label = 'PC Modes')\n",
    "ax6.set_xlabel('PC Modes')\n",
    "ax6.set_ylabel('Frob Norm')\n",
    "ax6.scatter([Frob_x[2], Frob_x[6], Frob_x[13]], [Frob_y[2], Frob_y[6], Frob_y[13]])\n",
    "ax6.annotate('(3, .67)', (Frob_x[2],Frob_y[2]), fontsize = 12)\n",
    "ax6.annotate('(7, .81)', (Frob_x[6],Frob_y[6]), fontsize = 12)\n",
    "ax6.annotate('(14, .91)', (Frob_x[13],Frob_y[13]), fontsize = 12)\n",
    "\n",
    "ax6_2 = ax6.twiny()\n",
    "ax6_2.plot(np.log(Frob_x), Frob_y, color = 'darkorange', label = 'log(PC Modes)')\n",
    "ax6_2.set_xlabel('log(PC Modes)')\n",
    "ax6_2.set_ylabel('Frobenius Norm')\n",
    "fig6.legend(fontsize = 10, bbox_to_anchor = (.9, .7))"
   ]
  },
  {
   "cell_type": "code",
   "execution_count": 227,
   "id": "3a823b54",
   "metadata": {},
   "outputs": [],
   "source": [
    "#fig6.savefig('Frob_norm.png')"
   ]
  },
  {
   "cell_type": "code",
   "execution_count": 157,
   "id": "b4f24f79",
   "metadata": {},
   "outputs": [],
   "source": [
    "pca1=PCA(16)\n",
    "trans1 = pca1.fit_transform(X_train)\n",
    "inv1 = pca1.inverse_transform(trans1)"
   ]
  },
  {
   "cell_type": "markdown",
   "id": "5b187cc1",
   "metadata": {},
   "source": [
    "def plot_digits_2(XX, N):\n",
    "    \"\"\"Small helper function to plot N**2 digits.\"\"\"\n",
    "    fig4, ax4 = plt.subplots(N, N, figsize=(8, 8))\n",
    "    for i in range(N):\n",
    "      for j in range(N):\n",
    "        ax4[i,j].imshow(XX[(N)*i+j,:].reshape((16, 16)), cmap=\"Greys\")\n",
    "        ax4[i,j].axis(\"off\")\n",
    "\n",
    "    #fig4.savefig('sample_16.png')\n",
    "plot_digits_2(inv1, 8)\n",
    "\n",
    "print(Y_train[0:8**2])"
   ]
  },
  {
   "cell_type": "markdown",
   "id": "f5f54d32",
   "metadata": {},
   "source": [
    "# Train classifier "
   ]
  },
  {
   "cell_type": "code",
   "execution_count": 159,
   "id": "6c6bced3",
   "metadata": {},
   "outputs": [],
   "source": [
    "def extract_feat_lab(a, b, X, Y):\n",
    "    label_a = np.where(Y == a)\n",
    "    label_b = np.where(Y == b)\n",
    "    \n",
    "    label_a=label_a[0]\n",
    "    label_b=label_b[0]\n",
    "    \n",
    "    feature_a = X[label_a, :]\n",
    "    feature_b = X[label_b, :]\n",
    "    \n",
    "    feature_a_b = np.append(feature_a, feature_b, axis=0)\n",
    "    label_a_b = np.append(np.full((1,len(label_a)),a), np.full((1,len(label_b)),b))\n",
    "    \n",
    "    label_a_b = np.where(label_a_b == a, -1, label_a_b)\n",
    "    label_a_b = np.where(label_a_b == b, 1, label_a_b)\n",
    "    \n",
    "    return feature_a_b, label_a_b"
   ]
  },
  {
   "cell_type": "code",
   "execution_count": 160,
   "id": "76fa19d8",
   "metadata": {},
   "outputs": [],
   "source": [
    "def PCA_MSE(comp, lam, a, b, feature, label):\n",
    "\n",
    "    X_train_a_b, Y_train_a_b = extract_feat_lab(a, b, X_train, Y_train)\n",
    "    \n",
    "    pca_comp = PCA(comp)\n",
    "    pca_comp.fit(X_train)\n",
    "    \n",
    "    trans_train = pca_comp.transform(X_train_a_b)\n",
    "    \n",
    "    clf = linear_model.RidgeCV(alphas=(lam, lam * .1, lam * .01), fit_intercept = False,\n",
    "                               cv = None, store_cv_values=True)\n",
    "    clf.fit(trans_train, Y_train_a_b)\n",
    "    \n",
    "    feature_a_b, label_a_b = extract_feat_lab(a, b, feature, label)\n",
    "    \n",
    "    feature_trans = pca_comp.transform(feature_a_b)\n",
    "    \n",
    "    pred = clf.predict(feature_trans)\n",
    "    \n",
    "    MSE = mean_squared_error(label_a_b, pred)\n",
    "\n",
    "    return MSE"
   ]
  },
  {
   "cell_type": "code",
   "execution_count": 161,
   "id": "0b7e1412",
   "metadata": {},
   "outputs": [
    {
     "name": "stdout",
     "output_type": "stream",
     "text": [
      "MSE (1,8) Train: 0.08813624979441376\n",
      "MSE (1,8) Test: 0.08555498332204307\n",
      "MSE (3,8) Train: 0.19029422404662888\n",
      "MSE (3,8) Test: 0.2295486555829837\n",
      "MSE (2,7) Train: 0.09812199304498453\n",
      "MSE (2,7) Test: 0.12923048256642095\n"
     ]
    }
   ],
   "source": [
    "MSE_1_8_16_train = PCA_MSE(16, 10, 1, 8, X_train, Y_train)\n",
    "print('MSE (1,8) Train: ' + str(MSE_1_8_16_train))\n",
    "\n",
    "\n",
    "MSE_1_8_16_test = PCA_MSE(16, 10, 1, 8, X_test, Y_test)\n",
    "print('MSE (1,8) Test: ' + str(MSE_1_8_16_test))\n",
    "\n",
    "\n",
    "\n",
    "MSE_3_8_16_train = PCA_MSE(16, 10, 3, 8, X_train, Y_train)\n",
    "print('MSE (3,8) Train: ' + str(MSE_3_8_16_train))\n",
    "\n",
    "\n",
    "MSE_3_8_16_test = PCA_MSE(16, 10, 3, 8, X_test, Y_test)\n",
    "print('MSE (3,8) Test: ' + str(MSE_3_8_16_test))\n",
    "\n",
    "\n",
    "\n",
    "MSE_2_7_16_train = PCA_MSE(16, 10, 2, 7, X_train, Y_train)\n",
    "print('MSE (2,7) Train: ' + str(MSE_2_7_16_train))\n",
    "\n",
    "\n",
    "MSE_2_7_16_test = PCA_MSE(16, 10, 2, 7, X_test, Y_test)\n",
    "print('MSE (2,7) Test: ' + str(MSE_2_7_16_test))\n",
    "\n"
   ]
  },
  {
   "cell_type": "code",
   "execution_count": 162,
   "id": "34b4fe4b",
   "metadata": {},
   "outputs": [],
   "source": [
    "def euc_distance(a, b, comp, data, label):\n",
    "    \n",
    "    pca_dist = PCA(comp)\n",
    "    pca_dist.fit(X_train)\n",
    "    \n",
    "    X, Y = extract_feat_lab(a,b, data, label)\n",
    "    \n",
    "    X = pca_dist.transform(X)\n",
    "    \n",
    "    Y_a = np.where(Y==-1)\n",
    "    Y_a = Y_a[0]\n",
    "    X_a = X[Y_a, :]\n",
    "    \n",
    "    X_a_mean = np.mean(X_a, axis=0)\n",
    "    \n",
    "    Y_b = np.where(Y==1)\n",
    "    Y_b = Y_b[0]\n",
    "    X_b = X[Y_b, :]\n",
    "    \n",
    "    X_b_mean = np.mean(X_b, axis=0)\n",
    "    \n",
    "    ave_dist = np.linalg.norm(X_a_mean - X_b_mean)\n",
    "    \n",
    "    return ave_dist"
   ]
  },
  {
   "cell_type": "code",
   "execution_count": 163,
   "id": "bd7e8614",
   "metadata": {},
   "outputs": [],
   "source": [
    "ave_dist_test_error = []\n",
    "annotations = \"annotations = [\"\n",
    "\n",
    "\n",
    "for i in range(9):\n",
    "    j = i + 1\n",
    "    while j < 10:\n",
    "        dist = euc_distance(i, j, 16, X_test, Y_test)\n",
    "        error = PCA_MSE(16, .1, i, j, X_test, Y_test)\n",
    "        ave_dist_test_error.append([dist, error, i, j])\n",
    "        \n",
    "        annotations = annotations + '\"' + \"(\" + str(i) + \",\" + str(j) + \")\" + '\"'  + \",\" + \" \"\n",
    "        \n",
    "        \n",
    "        j = j + 1\n",
    "\n",
    "dist_error = np.asarray(ave_dist_test_error)\n",
    "annotations = annotations + \"]\""
   ]
  },
  {
   "cell_type": "code",
   "execution_count": 164,
   "id": "fdaa933b",
   "metadata": {},
   "outputs": [
    {
     "name": "stdout",
     "output_type": "stream",
     "text": [
      "-0.04739769625722877\n",
      "0.31892859115211447\n"
     ]
    }
   ],
   "source": [
    "m, b = np.polyfit(dist_error.transpose()[0][:], dist_error.transpose()[1][:], 1)\n",
    "print(m)\n",
    "print(b)"
   ]
  },
  {
   "cell_type": "code",
   "execution_count": 165,
   "id": "82edac11",
   "metadata": {},
   "outputs": [],
   "source": [
    "annotations = [\"(0,1)\", \"(0,2)\", \"(0,3)\", \"(0,4)\", \"(0,5)\",\n",
    "               \"(0,6)\", \"(0,7)\", \"(0,8)\", \"(0,9)\", \"(1,2)\",\n",
    "               \"(1,3)\", \"(1,4)\", \"(1,5)\", \"(1,6)\", \"(1,7)\",\n",
    "               \"(1,8)\", \"(1,9)\", \"(2,3)\", \"(2,4)\", \"(2,5)\",\n",
    "               \"(2,6)\", \"(2,7)\", \"(2,8)\", \"(2,9)\", \"(3,4)\",\n",
    "               \"(3,5)\", \"(3,6)\", \"(3,7)\", \"(3,8)\", \"(3,9)\",\n",
    "               \"(4,5)\", \"(4,6)\", \"(4,7)\", \"(4,8)\", \"(4,9)\",\n",
    "               \"(5,6)\", \"(5,7)\", \"(5,8)\", \"(5,9)\", \"(6,7)\",\n",
    "               \"(6,8)\", \"(6,9)\", \"(7,8)\", \"(7,9)\", \"(8,9)\"]"
   ]
  },
  {
   "cell_type": "markdown",
   "id": "dd76004e",
   "metadata": {
    "scrolled": false
   },
   "source": [
    "fig5, ax5 = plt.subplots(figsize=(30,15))\n",
    "ax5.scatter(dist_error.transpose()[0][:],dist_error.transpose()[1][:])\n",
    "ax5.set_xlabel(\"Ave L2 Distance Between Two Points After Projection Onto 16 PC Modes\",\n",
    "           fontsize = 30)\n",
    "ax5.set_ylabel(\"Test MSE\", fontsize = 30)\n",
    "#ax5.set_title(\"L2 Norm vs Test MSE\",fontsize=40)\n",
    "ax5.tick_params(axis = 'x')\n",
    "ax5.tick_params(axis = 'y')\n",
    "ax5.plot(dist_error.transpose()[0][:], m*dist_error.transpose()[0][:] + b, \n",
    "         label = 'Least Squares Fit (Degree 1)')\n",
    "for i, label in enumerate(annotations):\n",
    "    ax5.annotate(label, (dist_error[i][0], dist_error[i][1]), fontsize = 20)\n",
    "ax5.legend(fontsize = 20, bbox_to_anchor = (.9, .8))\n",
    "plt.show()"
   ]
  },
  {
   "cell_type": "code",
   "execution_count": 167,
   "id": "08b09619",
   "metadata": {},
   "outputs": [],
   "source": [
    "#fig.savefig('sample_256.png')\n",
    "#fig2.savefig('log_sing.png')\n",
    "#fig3.savefig('PC_modes.png')\n",
    "#fig4.savefig('sample_16.png')\n",
    "#fig5.savefig('L2_norm_MSE.png')"
   ]
  }
 ],
 "metadata": {
  "kernelspec": {
   "display_name": "Python 3 (ipykernel)",
   "language": "python",
   "name": "python3"
  },
  "language_info": {
   "codemirror_mode": {
    "name": "ipython",
    "version": 3
   },
   "file_extension": ".py",
   "mimetype": "text/x-python",
   "name": "python",
   "nbconvert_exporter": "python",
   "pygments_lexer": "ipython3",
   "version": "3.8.12"
  }
 },
 "nbformat": 4,
 "nbformat_minor": 5
}
