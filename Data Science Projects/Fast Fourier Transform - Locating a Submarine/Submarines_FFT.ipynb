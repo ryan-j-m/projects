{
 "cells": [
  {
   "cell_type": "markdown",
   "id": "623a1147",
   "metadata": {},
   "source": [
    "### Import statements"
   ]
  },
  {
   "cell_type": "code",
   "execution_count": 13,
   "id": "c4275cfe",
   "metadata": {},
   "outputs": [],
   "source": [
    "# numpy is a powerful data scientific computing library\n",
    "import numpy as np\n",
    "# matplotlib is great for data visualization\n",
    "import matplotlib.pyplot as plt\n",
    "%matplotlib notebook"
   ]
  },
  {
   "cell_type": "markdown",
   "id": "8c62b283",
   "metadata": {},
   "source": [
    "### Import accoustic data as a 262144 x 49 matrix"
   ]
  },
  {
   "cell_type": "markdown",
   "id": "8b81ac98",
   "metadata": {},
   "source": [
    "d = np.load('subdata.npy')"
   ]
  },
  {
   "cell_type": "markdown",
   "id": "e1962369",
   "metadata": {},
   "source": [
    "### Define the length of the acoustic data cube, along with the Fourier domain"
   ]
  },
  {
   "cell_type": "code",
   "execution_count": 15,
   "id": "8585ddc0",
   "metadata": {},
   "outputs": [],
   "source": [
    "#length of cube representing acoustic data\n",
    "N_grid = 64\n",
    "#Defining the discretization of the Fourier space\n",
    "k_grid = np.linspace(-N_grid/2, N_grid/2-1, N_grid)\n",
    "#This 2D meshgrid allows us to visualize the Fourier space\n",
    "k1, k2 = np.meshgrid(k_grid, k_grid)"
   ]
  },
  {
   "cell_type": "markdown",
   "id": "c75692cd",
   "metadata": {},
   "source": [
    "## Sum and average the FFT's to find central frequency"
   ]
  },
  {
   "cell_type": "code",
   "execution_count": 16,
   "id": "20898d20",
   "metadata": {},
   "outputs": [],
   "source": [
    "fft = np.zeros((N_grid,N_grid,N_grid))\n",
    "# sum each FFT for each timestep (0-48)\n",
    "for t in np.arange(49):\n",
    "    signal = np.reshape(d[:, t], (N_grid, N_grid, N_grid))\n",
    "    \n",
    "    fft = fft + np.fft.fftshift(np.fft.fftn(signal))\n",
    "    "
   ]
  },
  {
   "cell_type": "code",
   "execution_count": 17,
   "id": "f807010c",
   "metadata": {},
   "outputs": [],
   "source": [
    "# Take the average    \n",
    "fft_ave_real = np.abs(np.real(fft/49))\n",
    "fft_ave = np.abs(fft/49)\n",
    "max_indices_real = np.unravel_index(fft_ave_real.argmax(), fft_ave.shape)\n",
    "zlev_real = max_indices_real[2]\n",
    "max_indices = np.unravel_index(fft_ave.argmax(), fft_ave.shape)\n",
    "zlev = max_indices[2]"
   ]
  },
  {
   "cell_type": "markdown",
   "id": "06f9349b",
   "metadata": {},
   "source": [
    "#### Find the central frequency in the Fourier Space"
   ]
  },
  {
   "cell_type": "code",
   "execution_count": 18,
   "id": "b5177221",
   "metadata": {},
   "outputs": [
    {
     "name": "stdout",
     "output_type": "stream",
     "text": [
      "(39, 49, 10)\n",
      "(26, 17, 55)\n",
      "[  7  17 -22]\n",
      "[ -6 -15  23]\n",
      "55\n",
      "10\n"
     ]
    }
   ],
   "source": [
    "print(max_indices)\n",
    "print(max_indices_real)\n",
    "print(max_indices - np.array([32,32,32]))\n",
    "print(max_indices_real- np.array([32,32,32]))\n",
    "print(zlev_real)\n",
    "print(zlev)"
   ]
  },
  {
   "cell_type": "markdown",
   "id": "1e5f6ef3",
   "metadata": {
    "scrolled": false
   },
   "source": [
    "fig, ax= plt.subplots()\n",
    "#ax.set_title('Average of the FFT at each timestep (0-48) z = 23')\n",
    "ax.set_xlabel('kx')\n",
    "ax.set_ylabel('ky')\n",
    "im = plt.contourf(k1, k2, np.abs(fft_ave[:,:,zlev_real]))\n",
    "fig.colorbar(im, label = \"Fourier Coefficient\")"
   ]
  },
  {
   "cell_type": "markdown",
   "id": "a20a66cf",
   "metadata": {},
   "source": [
    "fig1, ax1= plt.subplots()\n",
    "#ax1.set_title('Average of the FFT at each timestep (0-48) z = -22')\n",
    "ax1.set_xlabel('kx')\n",
    "ax1.set_ylabel('ky')\n",
    "im1 = plt.contourf(k1, k2, np.abs(fft_ave[:,:,10]))\n",
    "fig1.colorbar(im1, label = \"Fourier Coefficient\")"
   ]
  },
  {
   "cell_type": "markdown",
   "id": "d0640b57",
   "metadata": {},
   "source": [
    "## Define Gaussian filter around central frequency and shifted for k_grid"
   ]
  },
  {
   "cell_type": "code",
   "execution_count": 21,
   "id": "afe5cab8",
   "metadata": {},
   "outputs": [],
   "source": [
    "# Create a Gaussian filter centered on the central frequency found above\n",
    "def g_centered(x, y, z, s):\n",
    "    centered_x = x - max_indices_real[1] + 32\n",
    "    centered_y = y - max_indices_real[0] + 32\n",
    "    centered_z = z - max_indices_real[2] + 32\n",
    "    result = np.exp(-((centered_x**2 + centered_y**2 \n",
    "                    + centered_z**2)/(2*s**2)))\n",
    "    return result"
   ]
  },
  {
   "cell_type": "code",
   "execution_count": 22,
   "id": "0d0bc3f8",
   "metadata": {},
   "outputs": [],
   "source": [
    "# Create a Gaussian filter centered on the central frequency found above\n",
    "def g_centered_2(x, y, z, s):\n",
    "    centered_x = x - max_indices[1] + 32\n",
    "    centered_y = y - max_indices[0] + 32\n",
    "    centered_z = z - max_indices[2] + 32\n",
    "    result = np.exp(-((centered_x**2 + centered_y**2 \n",
    "                    + centered_z**2)/(2*s**2)))\n",
    "    return result"
   ]
  },
  {
   "cell_type": "code",
   "execution_count": 23,
   "id": "0245fc23",
   "metadata": {},
   "outputs": [],
   "source": [
    "# set Sigma and define a 3D mesh to plot results\n",
    "sigma = 3\n",
    "kx3, ky3, kz3 = np.meshgrid(k_grid, k_grid, k_grid)"
   ]
  },
  {
   "cell_type": "code",
   "execution_count": 24,
   "id": "5506ab34",
   "metadata": {},
   "outputs": [],
   "source": [
    "# Create the Gaussian filter values using the g_centered function defined previously\n",
    "g_vals = g_centered(kx3, ky3, kz3, sigma)\n",
    "g_vals_2 = g_centered_2(kx3, ky3, kz3, sigma)\n",
    "total_g_vals = g_vals + g_vals_2"
   ]
  },
  {
   "cell_type": "code",
   "execution_count": 25,
   "id": "4cb68b23",
   "metadata": {},
   "outputs": [
    {
     "data": {
      "text/plain": [
       "1.0"
      ]
     },
     "execution_count": 25,
     "metadata": {},
     "output_type": "execute_result"
    }
   ],
   "source": [
    "total_g_vals[26,17,55]"
   ]
  },
  {
   "cell_type": "code",
   "execution_count": 26,
   "id": "1a623a78",
   "metadata": {},
   "outputs": [
    {
     "data": {
      "text/plain": [
       "1.0"
      ]
     },
     "execution_count": 26,
     "metadata": {},
     "output_type": "execute_result"
    }
   ],
   "source": [
    "total_g_vals[39,49,10]"
   ]
  },
  {
   "cell_type": "markdown",
   "id": "20d2adce",
   "metadata": {},
   "source": [
    "fig2, (ax2) = plt.subplots()\n",
    "#ax2.set_title('Gaussian Filter at sigma=10 z=23')\n",
    "ax2.set_xlabel('kx')\n",
    "ax2.set_ylabel('ky')\n",
    "im2 = plt.contourf(k1, k2, np.abs(total_g_vals[:,:, zlev_real]))\n",
    "fig2.colorbar(im2, label = \"Gaussian Value\")"
   ]
  },
  {
   "cell_type": "markdown",
   "id": "030916a9",
   "metadata": {},
   "source": [
    "fig2_1, (ax2_1) = plt.subplots()\n",
    "#ax2_1.set_title('Gaussian Filter at sigma=10 z=-22')\n",
    "ax2_1.set_xlabel('kx')\n",
    "ax2_1.set_ylabel('ky')\n",
    "im2_1 = plt.contourf(k1, k2, np.abs(total_g_vals[:,:, 10]))\n",
    "fig2_1.colorbar(im2_1, label = \"Gaussian Value\")"
   ]
  },
  {
   "cell_type": "code",
   "execution_count": 29,
   "id": "97b70ccb",
   "metadata": {},
   "outputs": [
    {
     "data": {
      "text/plain": [
       "(26, 17, 55)"
      ]
     },
     "execution_count": 29,
     "metadata": {},
     "output_type": "execute_result"
    }
   ],
   "source": [
    "#Find the indices associated with the maximum value\n",
    "np.unravel_index(g_vals.argmax(), g_vals.shape)"
   ]
  },
  {
   "cell_type": "code",
   "execution_count": 30,
   "id": "28e59bda",
   "metadata": {},
   "outputs": [],
   "source": [
    "#Define a function which performs the FFT, filtering, and IFFT of each timestep\n",
    "def denoise(total_g_vals, timestep):\n",
    "    fft = np.fft.fftshift(np.fft.fftn(timestep))\n",
    "    \n",
    "    fft_denoise = fft * total_g_vals\n",
    "    \n",
    "    f_clean_vals = np.real(np.fft.ifftn( np.fft.ifftshift( fft_denoise )))\n",
    "    \n",
    "    return f_clean_vals"
   ]
  },
  {
   "cell_type": "code",
   "execution_count": 31,
   "id": "ee128559",
   "metadata": {},
   "outputs": [],
   "source": [
    "\n",
    "# Create and fill a new matrix to hold the denoised data\n",
    "denoised_f = np.zeros((64,64,64,49))\n",
    "\n",
    "for i in range(49):\n",
    "    signal = np.reshape(d[:,i], (64,64,64))\n",
    "    \n",
    "    denoised_f[:,:,:,i] = denoise(total_g_vals,signal)\n",
    "    "
   ]
  },
  {
   "cell_type": "code",
   "execution_count": 32,
   "id": "c0d1981d",
   "metadata": {},
   "outputs": [
    {
     "name": "stdout",
     "output_type": "stream",
     "text": [
      "32\n"
     ]
    }
   ],
   "source": [
    "time_0 = denoised_f[:,:,:, 0]\n",
    "zlev = np.unravel_index(time_0.argmax(), time_0.shape)\n",
    "time_0 = time_0/time_0[zlev]\n",
    "print(zlev[2])"
   ]
  },
  {
   "cell_type": "markdown",
   "id": "5bf5bb46",
   "metadata": {
    "scrolled": true
   },
   "source": [
    "N_grid = np.arange(N_grid)\n",
    "n1, n2 = np.meshgrid(N_grid, N_grid)\n",
    "fig3, ax3 = plt.subplots()\n",
    "#ax3.set_title('Reconstructed Filtered Signal at t=0, z=32')\n",
    "ax3.set_xlabel('x')\n",
    "ax3.set_ylabel('y')\n",
    "im3 = plt.contourf(n1, n2, np.abs(time_0[:,:,zlev[2]]))\n",
    "fig3.colorbar(im3)"
   ]
  },
  {
   "cell_type": "code",
   "execution_count": 34,
   "id": "c1fa40d4",
   "metadata": {},
   "outputs": [
    {
     "name": "stdout",
     "output_type": "stream",
     "text": [
      "52\n"
     ]
    }
   ],
   "source": [
    "time_24 = denoised_f[:,:,:, 24]\n",
    "zlev = np.unravel_index(time_24.argmax(), time_24.shape)\n",
    "time_24 = time_24/time_24[zlev]\n",
    "print(zlev[2])"
   ]
  },
  {
   "cell_type": "markdown",
   "id": "8719d791",
   "metadata": {},
   "source": [
    "fig3_1, ax3_1 = plt.subplots()\n",
    "#ax3_1.set_title('Reconstructed Filtered Signal at t=24, z=32')\n",
    "ax3_1.set_xlabel('x')\n",
    "ax3_1.set_ylabel('y')\n",
    "im3_1 = plt.contourf(n1, n2, np.abs(time_24[:,:,zlev[2]]))\n",
    "fig3_1.colorbar(im3_1)"
   ]
  },
  {
   "cell_type": "code",
   "execution_count": 36,
   "id": "88de1c30",
   "metadata": {},
   "outputs": [
    {
     "name": "stdout",
     "output_type": "stream",
     "text": [
      "35\n"
     ]
    }
   ],
   "source": [
    "time_48 = denoised_f[:,:,:, 48]\n",
    "zlev = np.unravel_index(time_48.argmax(), time_48.shape)\n",
    "time_48 = time_48/time_48[zlev]\n",
    "print(zlev[2])"
   ]
  },
  {
   "cell_type": "markdown",
   "id": "3556ccd7",
   "metadata": {},
   "source": [
    "fig3_2, ax3_2 = plt.subplots()\n",
    "#ax3_2.set_title('Reconstructed Filtered Signal at t=24, z=32')\n",
    "ax3_2.set_xlabel('x')\n",
    "ax3_2.set_ylabel('y')\n",
    "im3_2 = plt.contourf(n1, n2, np.abs(time_48[:,:,zlev[2]]))\n",
    "fig3_2.colorbar(im3_2)"
   ]
  },
  {
   "cell_type": "code",
   "execution_count": 38,
   "id": "74f15ae6",
   "metadata": {},
   "outputs": [],
   "source": [
    "# Determine the submarine location for each time step by taking the indices of the \n",
    "# maximum values of the filtered IFFT\n",
    "sub_path = np.zeros((3,49))\n",
    "for i in range(49):\n",
    "    timestep = denoised_f[:,:,:,i]\n",
    "    sub_path[:, i] = np.unravel_index(timestep.argmax(), timestep.shape)"
   ]
  },
  {
   "cell_type": "markdown",
   "id": "c229d81d",
   "metadata": {},
   "source": [
    "fig4 = plt.figure()\n",
    "ax4 = fig4.add_subplot(projection='3d')\n",
    "\n",
    "ax4.plot3D(sub_path[1,:], sub_path[0,:], sub_path[2,:])\n",
    "#ax4.set_title('Submarine Path')\n",
    "ax4.set_xlabel('x')\n",
    "ax4.set_ylabel('y')\n",
    "ax4.set_zlabel('z')\n"
   ]
  },
  {
   "cell_type": "markdown",
   "id": "ca9da1c0",
   "metadata": {
    "scrolled": true
   },
   "source": [
    "fig5 = plt.figure()\n",
    "ax5 = fig5.subplots()\n",
    "\n",
    "ax5.plot(sub_path[1,:], sub_path[0,:])\n",
    "#ax5.set_title('Submarine Path')\n",
    "ax5.set_xlabel('x')\n",
    "ax5.set_ylabel('y')"
   ]
  },
  {
   "cell_type": "code",
   "execution_count": 41,
   "id": "c6666336",
   "metadata": {},
   "outputs": [],
   "source": [
    "#fig.savefig('Average_fft_z_23.png')\n",
    "#fig1.savefig('Average_fft_z_neg22.png')\n",
    "#fig2.savefig('Gauss_z_23.png')\n",
    "#fig2_1.savefig('Gauss_z_neg22.png')\n",
    "#fig3.savefig('Filterd_signal1.png')\n",
    "#fig3_1.savefig('Filterd_signal2.png')\n",
    "#fig3_2.savefig('Filterd_signal3.png')\n",
    "#fig4.savefig('3D_path.png')\n",
    "#fig5.savefig('2D_path.png')"
   ]
  },
  {
   "cell_type": "code",
   "execution_count": null,
   "id": "a43e38a2",
   "metadata": {},
   "outputs": [],
   "source": []
  }
 ],
 "metadata": {
  "kernelspec": {
   "display_name": "Python 3 (ipykernel)",
   "language": "python",
   "name": "python3"
  },
  "language_info": {
   "codemirror_mode": {
    "name": "ipython",
    "version": 3
   },
   "file_extension": ".py",
   "mimetype": "text/x-python",
   "name": "python",
   "nbconvert_exporter": "python",
   "pygments_lexer": "ipython3",
   "version": "3.8.12"
  }
 },
 "nbformat": 4,
 "nbformat_minor": 5
}
