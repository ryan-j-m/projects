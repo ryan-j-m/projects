{
 "cells": [
  {
   "cell_type": "code",
   "execution_count": 1,
   "id": "f7f58f97",
   "metadata": {},
   "outputs": [],
   "source": [
    "import numpy as np\n",
    "import matplotlib.pyplot as plt\n",
    "import sklearn as skl\n",
    "import sklearn.datasets\n",
    "from sklearn import metrics\n",
    "import scipy.spatial \n",
    "%matplotlib notebook"
   ]
  },
  {
   "cell_type": "markdown",
   "id": "44a02c0c",
   "metadata": {},
   "source": [
    "## import and process data"
   ]
  },
  {
   "cell_type": "code",
   "execution_count": 2,
   "id": "108d7bc3",
   "metadata": {},
   "outputs": [],
   "source": [
    "votes = (np.loadtxt('house-votes-84.data', delimiter = ',', dtype =object, unpack=True)).T\n",
    "labels = votes[:,0]\n",
    "labels[labels == 'democrat'] = -1\n",
    "labels[labels == 'republican'] = 1\n",
    "labels = labels.astype(int)\n",
    "\n",
    "votes = votes[:,1:]\n",
    "votes[votes == 'y'] = 1\n",
    "votes[votes == 'n'] = -1\n",
    "votes[votes == '?'] = 0"
   ]
  },
  {
   "cell_type": "markdown",
   "id": "9c01e918",
   "metadata": {},
   "source": [
    "## create laplacian matrix"
   ]
  },
  {
   "cell_type": "code",
   "execution_count": 3,
   "id": "367f4568",
   "metadata": {},
   "outputs": [],
   "source": [
    "def eta(tt, rr):\n",
    "\n",
    "    val = np.exp( - (tt**2)/(2*rr**2) ) \n",
    "    return val.astype(float)"
   ]
  },
  {
   "cell_type": "code",
   "execution_count": 4,
   "id": "5b4e4f12",
   "metadata": {},
   "outputs": [],
   "source": [
    "dist = scipy.spatial.distance_matrix( votes, votes, p =2)\n",
    "\n",
    "r = 1.47\n",
    "\n",
    "W = eta( dist, r)\n"
   ]
  },
  {
   "cell_type": "code",
   "execution_count": 5,
   "id": "896082b5",
   "metadata": {},
   "outputs": [],
   "source": [
    "# compute Laplacian matrices \n",
    "\n",
    "d = np.sum(W, axis=1) # degree vector\n",
    "\n",
    "D = np.diag(d)\n",
    "Ds = np.diag(1/np.sqrt(d))\n",
    "Di = np.diag(1/d)\n",
    "\n",
    "\n",
    "L = D - W # unnormalized\n",
    "\n",
    "Ln = np.dot(Ds, np.dot((D - W),Ds)) # normalized"
   ]
  },
  {
   "cell_type": "code",
   "execution_count": 6,
   "id": "bde927d4",
   "metadata": {},
   "outputs": [
    {
     "name": "stdout",
     "output_type": "stream",
     "text": [
      "[8.55621835e-15 2.98407096e-01 7.67640672e-01 1.11556639e+00\n",
      " 1.23996052e+00 1.32183227e+00 1.35833389e+00 1.37583021e+00\n",
      " 1.46424318e+00 1.48165670e+00]\n",
      "[-4.57226242e-17  1.51450796e-02  3.48761972e-01  4.28767571e-01\n",
      "  4.34213036e-01  4.54007755e-01  4.93587540e-01  5.04138962e-01\n",
      "  5.13289174e-01  5.22794357e-01]\n"
     ]
    }
   ],
   "source": [
    "# compute eigendecompositions \n",
    "\n",
    "ll, VV = np.linalg.eigh(L)\n",
    "\n",
    "# we need to sort the eigenvalues and vectors \n",
    "\n",
    "idx = ll.argsort()\n",
    "l = ll[idx]\n",
    "V = VV[:, idx]\n",
    "\n",
    "lln, VVn = np.linalg.eigh(Ln)\n",
    "\n",
    "idxn = lln.argsort()\n",
    "ln = lln[idxn]\n",
    "Vn = VVn[:, idxn]\n",
    "\n",
    "print(l[0:10])\n",
    "\n",
    "print(ln[0:10])"
   ]
  },
  {
   "cell_type": "markdown",
   "id": "a3ace5a5",
   "metadata": {},
   "source": [
    "# plot eigenvalues \n",
    "\n",
    "fig, ax = plt.subplots(figsize=(4,4))\n",
    "\n",
    "ax.plot(np.log(l[1:None]))\n",
    "ax.set_xlabel('index')\n",
    "ax.set_ylabel('$\\lambda$')"
   ]
  },
  {
   "cell_type": "markdown",
   "id": "03579c57",
   "metadata": {},
   "source": [
    "# 3D plot of Laplacian embedding with first three eigenvectors\n",
    "\n",
    "fig1 = plt.figure(figsize=(4,4))\n",
    "ax1 = fig1.add_subplot(projection='3d')\n",
    "\n",
    "ax1.scatter( V[:,1]/np.abs(V[:,1]).max(), V[:,2]/np.abs(V[:,2]).max(), V[:,3]/np.abs(V[:,3]).max()  )\n",
    "ax1.set_xlabel('$q_1$')\n",
    "ax1.set_ylabel('$q_2$')\n",
    "ax1.set_zlabel('$q_3$')"
   ]
  },
  {
   "cell_type": "markdown",
   "id": "100b5671",
   "metadata": {},
   "source": [
    "## determine optimal value of sigma"
   ]
  },
  {
   "cell_type": "code",
   "execution_count": 7,
   "id": "aa6d6c40",
   "metadata": {},
   "outputs": [],
   "source": [
    "q1 = V[:,1]\n",
    "q1[q1 <= 0] = -1\n",
    "q1[q1 > 0] = 1\n",
    "q1 = q1.astype(int)\n",
    "\n",
    "labels = labels.astype(int)"
   ]
  },
  {
   "cell_type": "code",
   "execution_count": 8,
   "id": "4f2032f0",
   "metadata": {},
   "outputs": [
    {
     "data": {
      "text/plain": [
       "(435,)"
      ]
     },
     "execution_count": 8,
     "metadata": {},
     "output_type": "execute_result"
    }
   ],
   "source": [
    "V[:,1].shape"
   ]
  },
  {
   "cell_type": "code",
   "execution_count": 9,
   "id": "e02202f1",
   "metadata": {},
   "outputs": [],
   "source": [
    "delta = np.linspace(.01,4,400, endpoint = True)\n",
    "\n",
    "q1_acc_sig = np.zeros(len(delta))\n",
    "for i in np.arange(len(delta)):\n",
    "    \n",
    "    r = i\n",
    "    W = eta( dist, delta[i])\n",
    "\n",
    "    # compute Laplacian matrices \n",
    "\n",
    "    d = np.sum(W, axis=1) # degree vector\n",
    "\n",
    "    D = np.diag(d)\n",
    "    L = D - W # unnormalized\n",
    "    \n",
    "    # compute eigendecompositions \n",
    "\n",
    "    ll, VV = np.linalg.eigh(L)\n",
    "\n",
    "    # we need to sort the eigenvalues and vectors \n",
    "\n",
    "    idx = ll.argsort()\n",
    "    l = ll[idx]\n",
    "    V = VV[:, idx]\n",
    "    \n",
    "    q1 = V[:,1]\n",
    "    q1[q1 <= 0] = -1\n",
    "    q1[q1 > 0] = 1\n",
    "    q1 = q1.astype(int)\n",
    "    q1_acc_sig[i] = metrics.accuracy_score(labels,q1)"
   ]
  },
  {
   "cell_type": "code",
   "execution_count": 10,
   "id": "216cca69",
   "metadata": {},
   "outputs": [],
   "source": [
    "for i in np.arange(len(q1_acc_sig)):\n",
    "    if q1_acc_sig[i] < .5:\n",
    "        q1_acc_sig[i] = 1-q1_acc_sig[i]"
   ]
  },
  {
   "cell_type": "markdown",
   "id": "bc1b3222",
   "metadata": {
    "scrolled": true
   },
   "source": [
    "fig2, ax2 = plt.subplots()\n",
    "\n",
    "ax2.scatter(delta, q1_acc_sig,s = 2)\n",
    "ax2.plot(delta[q1_acc_sig.argmax()],q1_acc_sig[q1_acc_sig.argmax()], 'r*', markersize = 10,\n",
    "       label = '$\\sigma^*$')\n",
    "ax2.legend(loc = 'right')"
   ]
  },
  {
   "cell_type": "code",
   "execution_count": 11,
   "id": "d3c85be0",
   "metadata": {},
   "outputs": [
    {
     "data": {
      "text/plain": [
       "1.47"
      ]
     },
     "execution_count": 11,
     "metadata": {},
     "output_type": "execute_result"
    }
   ],
   "source": [
    "delta[q1_acc_sig.argmax()]"
   ]
  },
  {
   "cell_type": "code",
   "execution_count": 12,
   "id": "0c466a88",
   "metadata": {},
   "outputs": [
    {
     "data": {
      "text/plain": [
       "0.8804597701149426"
      ]
     },
     "execution_count": 12,
     "metadata": {},
     "output_type": "execute_result"
    }
   ],
   "source": [
    "q1_acc_sig[q1_acc_sig.argmax()]"
   ]
  },
  {
   "cell_type": "markdown",
   "id": "3db2e5a2",
   "metadata": {},
   "source": [
    "## Semi-supervised learning"
   ]
  },
  {
   "cell_type": "code",
   "execution_count": 13,
   "id": "9214bd2a",
   "metadata": {},
   "outputs": [],
   "source": [
    "dist = scipy.spatial.distance_matrix( votes, votes, p =2)\n",
    "\n",
    "r = delta[q1_acc_sig.argmax()]\n",
    "\n",
    "W = eta( dist, r)\n"
   ]
  },
  {
   "cell_type": "code",
   "execution_count": 14,
   "id": "c2da1750",
   "metadata": {},
   "outputs": [],
   "source": [
    "# compute Laplacian matrices \n",
    "\n",
    "d = np.sum(W, axis=1) # degree vector\n",
    "\n",
    "D = np.diag(d)\n",
    "\n",
    "L = D - W # unnormalized\n"
   ]
  },
  {
   "cell_type": "code",
   "execution_count": 15,
   "id": "911d7feb",
   "metadata": {},
   "outputs": [
    {
     "name": "stdout",
     "output_type": "stream",
     "text": [
      "[8.55621835e-15 2.98407096e-01 7.67640672e-01 1.11556639e+00\n",
      " 1.23996052e+00 1.32183227e+00 1.35833389e+00 1.37583021e+00\n",
      " 1.46424318e+00 1.48165670e+00]\n"
     ]
    }
   ],
   "source": [
    "# compute eigendecompositions \n",
    "\n",
    "ll, VV = np.linalg.eigh(L)\n",
    "\n",
    "# we need to sort the eigenvalues and vectors \n",
    "\n",
    "idx = ll.argsort()\n",
    "l = ll[idx]\n",
    "V = VV[:, idx]\n",
    "\n",
    "print(l[0:10])\n"
   ]
  },
  {
   "cell_type": "markdown",
   "id": "9dba47f7",
   "metadata": {},
   "source": [
    "## compute varying accuracy of J and M"
   ]
  },
  {
   "cell_type": "code",
   "execution_count": 16,
   "id": "0284882a",
   "metadata": {},
   "outputs": [],
   "source": [
    "from sklearn.linear_model import Ridge, LinearRegression"
   ]
  },
  {
   "cell_type": "code",
   "execution_count": 17,
   "id": "cac978e8",
   "metadata": {},
   "outputs": [],
   "source": [
    "M = [2,3,4,5,6]\n",
    "J = [5,10,20,40]"
   ]
  },
  {
   "cell_type": "code",
   "execution_count": 18,
   "id": "33be746c",
   "metadata": {},
   "outputs": [
    {
     "name": "stdout",
     "output_type": "stream",
     "text": [
      "1.47\n",
      "M:2 J: 5\n",
      "Accuracy: 0.8758620689655172\n",
      "M:2 J: 10\n",
      "Accuracy: 0.8781609195402299\n",
      "M:2 J: 20\n",
      "Accuracy: 0.8804597701149425\n",
      "M:2 J: 40\n",
      "Accuracy: 0.8827586206896552\n",
      "M:3 J: 5\n",
      "Accuracy: 0.8896551724137931\n",
      "M:3 J: 10\n",
      "Accuracy: 0.7701149425287356\n",
      "M:3 J: 20\n",
      "Accuracy: 0.8436781609195402\n",
      "M:3 J: 40\n",
      "Accuracy: 0.8735632183908046\n",
      "M:4 J: 5\n",
      "Accuracy: 0.4160919540229885\n",
      "M:4 J: 10\n",
      "Accuracy: 0.8528735632183908\n",
      "M:4 J: 20\n",
      "Accuracy: 0.8758620689655172\n",
      "M:4 J: 40\n",
      "Accuracy: 0.864367816091954\n",
      "M:5 J: 5\n",
      "Accuracy: 0.8597701149425288\n",
      "M:5 J: 10\n",
      "Accuracy: 0.774712643678161\n",
      "M:5 J: 20\n",
      "Accuracy: 0.825287356321839\n",
      "M:5 J: 40\n",
      "Accuracy: 0.8804597701149425\n",
      "M:6 J: 5\n",
      "Accuracy: 0.8781609195402299\n",
      "M:6 J: 10\n",
      "Accuracy: 0.696551724137931\n",
      "M:6 J: 20\n",
      "Accuracy: 0.8091954022988506\n",
      "M:6 J: 40\n",
      "Accuracy: 0.8827586206896552\n"
     ]
    }
   ],
   "source": [
    "print(delta[q1_acc_sig.argmax()])\n",
    "\n",
    "accuracy = np.zeros((len(J),len(M)))\n",
    "labels = labels.astype(int)\n",
    "\n",
    "for m in range(len(M)):\n",
    "    for j in range(len(J)):\n",
    "        A = V[0:J[j], 0:M[m]]\n",
    "        b = labels[0:J[j]]\n",
    "        \n",
    "        SSLRidge = Ridge(alpha = 1e-8, fit_intercept = False).fit(A,b)\n",
    "        \n",
    "        F = V[:, 0:M[m]]\n",
    "        \n",
    "        pred = SSLRidge.predict(F)\n",
    "        \n",
    "        pred = np.sign(pred)\n",
    "        \n",
    "        accuracy[j][m] = metrics.accuracy_score(labels,pred)\n",
    "        \n",
    "        print ('M:' + str(M[m]) + ' J: ' + str(J[j]))\n",
    "        print('Accuracy: ' + str(accuracy[j][m]))"
   ]
  },
  {
   "cell_type": "code",
   "execution_count": 19,
   "id": "64192959",
   "metadata": {},
   "outputs": [
    {
     "data": {
      "text/plain": [
       "0.8896551724137931"
      ]
     },
     "execution_count": 19,
     "metadata": {},
     "output_type": "execute_result"
    }
   ],
   "source": [
    "accuracy.max()"
   ]
  },
  {
   "cell_type": "markdown",
   "id": "95b0b4ff",
   "metadata": {},
   "source": [
    "## plot q1"
   ]
  },
  {
   "cell_type": "code",
   "execution_count": 20,
   "id": "dbbdb53c",
   "metadata": {},
   "outputs": [],
   "source": [
    "index = labels.argsort()\n",
    "votes_sort = votes[index]\n",
    "labels_sort = labels[index]\n",
    "\n",
    "xd = votes_sort[0:267, :]\n",
    "xr = votes_sort[267:, :]\n",
    "yd = labels_sort[0:267]\n",
    "yr = labels_sort[267:]"
   ]
  },
  {
   "cell_type": "markdown",
   "id": "2328aa53",
   "metadata": {},
   "source": [
    "# 3D plot of Laplacian embedding with first three eigenvectors\n",
    "\n",
    "fig3 = plt.figure(figsize=(3,3))\n",
    "ax3 = fig3.add_subplot(projection='3d')\n",
    "\n",
    "dem = np.where(labels == -1)\n",
    "rep = np.where(labels == 1)\n",
    "\n",
    "ax3.scatter( V[dem,1]/np.abs(V[:,1]).max(), V[dem,2]/np.abs(V[:,2]).max(), V[dem,3]/np.abs(V[:,3]).max(),\n",
    "          label = 'democrat', s = 5)\n",
    "ax3.set_xlabel('$q_1$')\n",
    "ax3.set_ylabel('$q_2$')\n",
    "ax3.set_zlabel('$q_3$')\n",
    "\n",
    "ax3.scatter( V[rep,1]/np.abs(V[:,1]).max(), V[rep,2]/np.abs(V[:,2]).max(), V[rep,3]/np.abs(V[:,3]).max() , \n",
    "          'r0', label = 'republican', s = 5)\n",
    "ax3.legend()"
   ]
  },
  {
   "cell_type": "markdown",
   "id": "e65bf494",
   "metadata": {},
   "source": [
    "fig4 = plt.figure(figsize=(5,3))\n",
    "ax4 = fig4.add_subplot()\n",
    "\n",
    "ax4.scatter(np.arange(V[dem,1].shape[1]), V[dem,1]/np.abs(V[:,1]).max(),\n",
    "          label = 'Democrat', s = 5)\n",
    "ax4.scatter(np.arange(V[rep,1].shape[1]), V[rep,1]/np.abs(V[:,1]).max(),\n",
    "          label = 'Republican', s = 5)\n",
    "ax4.legend(loc = 'lower center', bbox_to_anchor=(.5, 1.05))\n",
    "fig4.tight_layout()"
   ]
  },
  {
   "cell_type": "markdown",
   "id": "1fe7fffc",
   "metadata": {},
   "source": [
    "sum(sum(V[dem,1]<=0))/267"
   ]
  },
  {
   "cell_type": "markdown",
   "id": "cf078638",
   "metadata": {},
   "source": [
    "sum(sum(V[rep,1]>0))/(435-267)"
   ]
  },
  {
   "cell_type": "code",
   "execution_count": null,
   "id": "32c8b480",
   "metadata": {},
   "outputs": [],
   "source": [
    "#fig.savefig('eigen.png')\n",
    "#fig1.savefig('lap_q3.png')\n",
    "#fig2.savefig('sigma.png')\n",
    "#fig4.savefig('q1.png')"
   ]
  },
  {
   "cell_type": "code",
   "execution_count": 22,
   "id": "cf246221",
   "metadata": {},
   "outputs": [
    {
     "data": {
      "text/plain": [
       "(435,)"
      ]
     },
     "execution_count": 22,
     "metadata": {},
     "output_type": "execute_result"
    }
   ],
   "source": [
    "pred.shape"
   ]
  },
  {
   "cell_type": "code",
   "execution_count": 23,
   "id": "42dec4a3",
   "metadata": {},
   "outputs": [],
   "source": [
    "std_j = np.zeros(4)\n",
    "std_m = np.zeros(5)\n",
    "mean_m = np.zeros(5)\n",
    "mean_j = np.zeros(4)"
   ]
  },
  {
   "cell_type": "code",
   "execution_count": 24,
   "id": "d382ae28",
   "metadata": {},
   "outputs": [],
   "source": [
    "for i in range(4):\n",
    "    std_j[i] = accuracy[i,:].std()\n",
    "    mean_j[i] = accuracy[i,:].mean()\n",
    "for i in range(5):\n",
    "    std_m[i] = accuracy[:,i].std()\n",
    "    mean_m[i] = accuracy[:,i].mean()"
   ]
  },
  {
   "cell_type": "code",
   "execution_count": 25,
   "id": "e49e6b8b",
   "metadata": {},
   "outputs": [
    {
     "name": "stdout",
     "output_type": "stream",
     "text": [
      "std j: [0.18415501 0.06478681 0.02779994 0.00706312]\n",
      "std m: [0.00257019 0.04587273 0.19427923 0.04002823 0.07522152]\n",
      "mean j: [0.78390805 0.79448276 0.84689655 0.87678161]\n",
      "mean m: [0.87931034 0.84425287 0.75229885 0.83505747 0.81666667]\n"
     ]
    }
   ],
   "source": [
    "print('std j: ' + str(std_j))\n",
    "print('std m: ' + str(std_m))\n",
    "print('mean j: ' + str(mean_j))\n",
    "print('mean m: ' + str(mean_m))"
   ]
  },
  {
   "cell_type": "code",
   "execution_count": 26,
   "id": "24e7e957",
   "metadata": {},
   "outputs": [
    {
     "data": {
      "text/plain": [
       "1.47"
      ]
     },
     "execution_count": 26,
     "metadata": {},
     "output_type": "execute_result"
    }
   ],
   "source": [
    "delta[q1_acc_sig.argmax()]"
   ]
  },
  {
   "cell_type": "code",
   "execution_count": null,
   "id": "192aacc4",
   "metadata": {},
   "outputs": [],
   "source": []
  }
 ],
 "metadata": {
  "kernelspec": {
   "display_name": "Python 3 (ipykernel)",
   "language": "python",
   "name": "python3"
  },
  "language_info": {
   "codemirror_mode": {
    "name": "ipython",
    "version": 3
   },
   "file_extension": ".py",
   "mimetype": "text/x-python",
   "name": "python",
   "nbconvert_exporter": "python",
   "pygments_lexer": "ipython3",
   "version": "3.8.12"
  }
 },
 "nbformat": 4,
 "nbformat_minor": 5
}
