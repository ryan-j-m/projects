{
 "cells": [
  {
   "cell_type": "code",
   "execution_count": 17,
   "metadata": {},
   "outputs": [],
   "source": [
    "import math\n",
    "import numpy as np"
   ]
  },
  {
   "cell_type": "code",
   "execution_count": 18,
   "metadata": {},
   "outputs": [
    {
     "name": "stdout",
     "output_type": "stream",
     "text": [
      "max: + 66*x_1 + 37*x_2 + 20*x_3 + 30*x_4 + 58*x_5 + 78*x_6 + 72*x_7 + 45*x_8 + 22*x_9 + 24*x_10 + 50*x_11 + 75*x_12 + 77*x_13 + 54*x_14 + 27*x_15 + 21*x_16 + 41*x_17 + 69*x_18 + 79*x_19 + 62*x_20 + 33*x_21 + 20*x_22 + 34*x_23 + 62*x_24 + 79*x_25 + 69*x_26 + 41*x_27 + 21*x_28 + 27*x_29 + 54*x_30 + 77*x_31 + 75*x_32 + 49*x_33 + 24*x_34 + 22*x_35 + 46*x_36 + 72*x_37 + 78*x_38 + 57*x_39 + 29*x_40 + 20*x_41 + 38*x_42 + 66*x_43 + 79*x_44 + 65*x_45 + 37*x_46 + 20*x_47 + 30*x_48 + 59*x_49 + 78*x_50 ;\n"
     ]
    }
   ],
   "source": [
    "#Create the objective function\n",
    "obj_func = \"\"\n",
    "#iterate through 50 times, increasing i each time\n",
    "for i in range(50):\n",
    "    #equation for value-floor function rounds down to nearest integer\n",
    "    temp = \"+ \"+str(math.floor(50+30*np.cos(i+1))) + \"*x_\"+str(i+1)+\" \"\n",
    "    #append each new string to get a long sequence of variables\n",
    "    obj_func = obj_func + temp\n",
    "#add appropriate syntax for LPSolve\n",
    "obj_func = \"max: \"+ obj_func + \";\"\n",
    "print(obj_func)\n"
   ]
  },
  {
   "cell_type": "code",
   "execution_count": 19,
   "metadata": {},
   "outputs": [
    {
     "name": "stdout",
     "output_type": "stream",
     "text": [
      "+ 22*x_1 + 17*x_2 + 5*x_3 + 10*x_4 + 22*x_5 + 17*x_6 + 5*x_7 + 9*x_8 + 22*x_9 + 18*x_10 + 6*x_11 + 9*x_12 + 21*x_13 + 18*x_14 + 6*x_15 + 9*x_16 + 21*x_17 + 18*x_18 + 6*x_19 + 9*x_20 + 21*x_21 + 18*x_22 + 6*x_23 + 9*x_24 + 21*x_25 + 18*x_26 + 6*x_27 + 9*x_28 + 21*x_29 + 18*x_30 + 6*x_31 + 9*x_32 + 21*x_33 + 18*x_34 + 6*x_35 + 9*x_36 + 21*x_37 + 19*x_38 + 6*x_39 + 8*x_40 + 21*x_41 + 19*x_42 + 6*x_43 + 8*x_44 + 21*x_45 + 19*x_46 + 6*x_47 + 8*x_48 + 21*x_49 + 19*x_50  <=200;\n"
     ]
    }
   ],
   "source": [
    "constraint_1 = \"\"\n",
    "for i in range(50):\n",
    "    temp = \"+ \"+str(math.floor(14+9*np.cos(11*(i+1)+2))) + \"*x_\"+str(i+1)+\" \"\n",
    "    constraint_1 = constraint_1 + temp\n",
    "constraint_1 = constraint_1+\" <=200;\"\n",
    "print(constraint_1)    "
   ]
  },
  {
   "cell_type": "code",
   "execution_count": 20,
   "metadata": {},
   "outputs": [
    {
     "name": "stdout",
     "output_type": "stream",
     "text": [
      "+ 8*x_1 + 11*x_2 + 10*x_3 + 8*x_4 + 11*x_5 + 8*x_6 + 9*x_7 + 11*x_8 + 8*x_9 + 10*x_10 + 11*x_11 + 8*x_12 + 11*x_13 + 10*x_14 + 8*x_15 + 11*x_16 + 8*x_17 + 9*x_18 + 11*x_19 + 8*x_20 + 10*x_21 + 11*x_22 + 8*x_23 + 11*x_24 + 10*x_25 + 8*x_26 + 11*x_27 + 8*x_28 + 9*x_29 + 11*x_30 + 8*x_31 + 10*x_32 + 11*x_33 + 8*x_34 + 11*x_35 + 10*x_36 + 8*x_37 + 11*x_38 + 9*x_39 + 9*x_40 + 11*x_41 + 8*x_42 + 10*x_43 + 11*x_44 + 8*x_45 + 11*x_46 + 10*x_47 + 8*x_48 + 11*x_49 + 9*x_50  <=100;\n"
     ]
    }
   ],
   "source": [
    "constraint_2 = \"\"\n",
    "for i in range(50):\n",
    "    temp = \"+ \"+str(math.floor(10+2*np.cos(4*(i+1)-1))) + \"*x_\"+str(i+1)+\" \"\n",
    "    constraint_2 = constraint_2 + temp\n",
    "constraint_2 = constraint_2+\" <=100;\"\n",
    "print(constraint_2)    "
   ]
  },
  {
   "cell_type": "code",
   "execution_count": 21,
   "metadata": {},
   "outputs": [
    {
     "name": "stdout",
     "output_type": "stream",
     "text": [
      "bin x_1, x_2, x_3, x_4, x_5, x_6, x_7, x_8, x_9, x_10, x_11, x_12, x_13, x_14, x_15, x_16, x_17, x_18, x_19, x_20, x_21, x_22, x_23, x_24, x_25, x_26, x_27, x_28, x_29, x_30, x_31, x_32, x_33, x_34, x_35, x_36, x_37, x_38, x_39, x_40, x_41, x_42, x_43, x_44, x_45, x_46, x_47, x_48, x_49, x_50;\n"
     ]
    }
   ],
   "source": [
    "binary = \"\"\n",
    "for i in range(49):\n",
    "    binary = binary + (\"x_\"+str(i+1)+\", \")\n",
    "binary = \"bin \" +binary + str(\"x_50;\")\n",
    "print(binary)\n",
    "    \n"
   ]
  },
  {
   "cell_type": "code",
   "execution_count": 1,
   "metadata": {},
   "outputs": [
    {
     "ename": "NameError",
     "evalue": "name 'math' is not defined",
     "output_type": "error",
     "traceback": [
      "\u001b[1;31m---------------------------------------------------------------------------\u001b[0m",
      "\u001b[1;31mNameError\u001b[0m                                 Traceback (most recent call last)",
      "\u001b[1;32m<ipython-input-1-f2ebb52503fd>\u001b[0m in \u001b[0;36m<module>\u001b[1;34m\u001b[0m\n\u001b[0;32m      1\u001b[0m \u001b[0mprime_50\u001b[0m \u001b[1;33m=\u001b[0m \u001b[1;34m\"\"\u001b[0m\u001b[1;33m\u001b[0m\u001b[1;33m\u001b[0m\u001b[0m\n\u001b[0;32m      2\u001b[0m \u001b[1;32mfor\u001b[0m \u001b[0mi\u001b[0m \u001b[1;32min\u001b[0m \u001b[0mrange\u001b[0m\u001b[1;33m(\u001b[0m\u001b[1;36m50\u001b[0m\u001b[1;33m)\u001b[0m\u001b[1;33m:\u001b[0m\u001b[1;33m\u001b[0m\u001b[1;33m\u001b[0m\u001b[0m\n\u001b[1;32m----> 3\u001b[1;33m     \u001b[0mvar_prime_50\u001b[0m \u001b[1;33m=\u001b[0m \u001b[1;34m\"+ \"\u001b[0m\u001b[1;33m+\u001b[0m\u001b[0mstr\u001b[0m\u001b[1;33m(\u001b[0m\u001b[1;36m.5\u001b[0m\u001b[1;33m*\u001b[0m\u001b[0mmath\u001b[0m\u001b[1;33m.\u001b[0m\u001b[0mfloor\u001b[0m\u001b[1;33m(\u001b[0m\u001b[1;36m50\u001b[0m\u001b[1;33m+\u001b[0m\u001b[1;36m30\u001b[0m\u001b[1;33m*\u001b[0m\u001b[0mnp\u001b[0m\u001b[1;33m.\u001b[0m\u001b[0mcos\u001b[0m\u001b[1;33m(\u001b[0m\u001b[0mi\u001b[0m\u001b[1;33m+\u001b[0m\u001b[1;36m1\u001b[0m\u001b[1;33m)\u001b[0m\u001b[1;33m)\u001b[0m\u001b[1;33m)\u001b[0m \u001b[1;33m+\u001b[0m \u001b[1;34m\"*x_\"\u001b[0m\u001b[1;33m+\u001b[0m\u001b[0mstr\u001b[0m\u001b[1;33m(\u001b[0m\u001b[0mi\u001b[0m\u001b[1;33m+\u001b[0m\u001b[1;36m1\u001b[0m\u001b[1;33m)\u001b[0m\u001b[1;33m+\u001b[0m\u001b[1;34m\" \"\u001b[0m\u001b[1;33m\u001b[0m\u001b[1;33m\u001b[0m\u001b[0m\n\u001b[0m\u001b[0;32m      4\u001b[0m     \u001b[0mprime_50\u001b[0m \u001b[1;33m=\u001b[0m \u001b[0mprime_50\u001b[0m \u001b[1;33m+\u001b[0m \u001b[0mvar_prime_50\u001b[0m\u001b[1;33m\u001b[0m\u001b[1;33m\u001b[0m\u001b[0m\n\u001b[0;32m      5\u001b[0m \u001b[0mprime_50\u001b[0m \u001b[1;33m=\u001b[0m \u001b[1;34m\" >= \"\u001b[0m\u001b[1;33m+\u001b[0m \u001b[0mprime_50\u001b[0m\u001b[1;33m\u001b[0m\u001b[1;33m\u001b[0m\u001b[0m\n",
      "\u001b[1;31mNameError\u001b[0m: name 'math' is not defined"
     ]
    }
   ],
   "source": [
    "prime_50 = \"\"\n",
    "for i in range(50):\n",
    "    var_prime_50 = \"+ \"+str(.5*math.floor(50+30*np.cos(i+1))) + \"*x_\"+str(i+1)+\" \"\n",
    "    prime_50 = prime_50 + var_prime_50\n",
    "prime_50 = \" >= \"+ prime_50"
   ]
  },
  {
   "cell_type": "code",
   "execution_count": 23,
   "metadata": {},
   "outputs": [
    {
     "name": "stdout",
     "output_type": "stream",
     "text": [
      "+ 49.5*x_1 + 27.75*x_2 + 15.0*x_3 + 22.5*x_4 + 43.5*x_5 + 58.5*x_6 + 54.0*x_7 + 33.75*x_8 + 16.5*x_9 + 18.0*x_10 + 37.5*x_11 + 56.25*x_12 + 57.75*x_13 + 40.5*x_14 + 20.25*x_15 + 15.75*x_16 + 30.75*x_17 + 51.75*x_18 + 59.25*x_19 + 46.5*x_20 + 24.75*x_21 + 15.0*x_22 + 25.5*x_23 + 46.5*x_24 + 59.25*x_25 + 51.75*x_26 + 30.75*x_27 + 15.75*x_28 + 20.25*x_29 + 40.5*x_30 + 57.75*x_31 + 56.25*x_32 + 36.75*x_33 + 18.0*x_34 + 16.5*x_35 + 34.5*x_36 + 54.0*x_37 + 58.5*x_38 + 42.75*x_39 + 21.75*x_40 + 15.0*x_41 + 28.5*x_42 + 49.5*x_43 + 59.25*x_44 + 48.75*x_45 + 27.75*x_46 + 15.0*x_47 + 22.5*x_48 + 44.25*x_49 + 58.5*x_50 ;\n"
     ]
    }
   ],
   "source": [
    "#intitialize string variable\n",
    "prime_75 = \"\"\n",
    "#iterate through all 50 items\n",
    "for i in range(50):\n",
    "    #multiply each variable in objective function by .75\n",
    "    var_prime_75 = \"+ \"+str(.75*math.floor(50+30*np.cos(i+1))) + \"*x_\"+str(i+1)+\" \"\n",
    "    prime_75 = prime_75 + var_prime_75\n",
    "#create final string output\n",
    "prime_75 = prime_75 + \";\""
   ]
  },
  {
   "cell_type": "code",
   "execution_count": 24,
   "metadata": {},
   "outputs": [],
   "source": [
    "# with open(\"knapsack.txt\", \"w\") as text_file:\n",
    "#     print(obj_func, file=text_file)\n",
    "#     print(file=text_file)\n",
    "#     print(constraint_1, file=text_file)\n",
    "#     print(file=text_file)\n",
    "#     print(constraint_2, file=text_file)\n",
    "#     print(file=text_file)\n",
    "#     print(binary, file=text_file)"
   ]
  },
  {
   "cell_type": "code",
   "execution_count": null,
   "metadata": {},
   "outputs": [],
   "source": []
  }
 ],
 "metadata": {
  "kernelspec": {
   "display_name": "Python 3",
   "language": "python",
   "name": "python3"
  },
  "language_info": {
   "codemirror_mode": {
    "name": "ipython",
    "version": 3
   },
   "file_extension": ".py",
   "mimetype": "text/x-python",
   "name": "python",
   "nbconvert_exporter": "python",
   "pygments_lexer": "ipython3",
   "version": "3.8.3"
  }
 },
 "nbformat": 4,
 "nbformat_minor": 4
}
